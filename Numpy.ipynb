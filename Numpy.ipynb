{
 "cells": [
  {
   "cell_type": "markdown",
   "source": [
    "# 1-Numpy"
   ],
   "metadata": {}
  },
  {
   "cell_type": "markdown",
   "source": [
    "## 1- For Arrays\n"
   ],
   "metadata": {}
  },
  {
   "cell_type": "code",
   "execution_count": 1,
   "source": [
    "# import\r\n",
    "import numpy as np"
   ],
   "outputs": [],
   "metadata": {}
  },
  {
   "cell_type": "code",
   "execution_count": 2,
   "source": [
    "a= np.array([1,2,3,4,5,6])\r\n",
    "print(\"1-D Array: \",a)"
   ],
   "outputs": [
    {
     "output_type": "stream",
     "name": "stdout",
     "text": [
      "1-D Array:  [1 2 3 4 5 6]\n"
     ]
    }
   ],
   "metadata": {}
  },
  {
   "cell_type": "code",
   "execution_count": 3,
   "source": [
    "b= np.array([[1,2,3],[4,5,6]])\r\n",
    "print(\"Multi-D:\",b)\r\n",
    "print(b.shape)\r\n",
    "c= np.array([[[1,2,3],[4,5,6]],[[7,8,9],[10,11,12]]])\r\n",
    "d=np.array([[1,2,3],[4,5,6],[7,8,9],[10,22,44]])\r\n",
    "print(\"--------------\")\r\n",
    "print(d)\r\n",
    "\r\n",
    "print(d.shape)"
   ],
   "outputs": [
    {
     "output_type": "stream",
     "name": "stdout",
     "text": [
      "Multi-D: [[1 2 3]\n",
      " [4 5 6]]\n",
      "(2, 3)\n",
      "--------------\n",
      "[[ 1  2  3]\n",
      " [ 4  5  6]\n",
      " [ 7  8  9]\n",
      " [10 22 44]]\n",
      "(4, 3)\n"
     ]
    }
   ],
   "metadata": {}
  },
  {
   "cell_type": "code",
   "execution_count": 4,
   "source": [
    "#Array Full of Zeros\r\n",
    "c=np.zeros([2,2])\r\n",
    "print(c)"
   ],
   "outputs": [
    {
     "output_type": "stream",
     "name": "stdout",
     "text": [
      "[[0. 0.]\n",
      " [0. 0.]]\n"
     ]
    }
   ],
   "metadata": {}
  },
  {
   "cell_type": "code",
   "execution_count": 5,
   "source": [
    "#Array Full of ones\r\n",
    "d=np.ones([2,2])\r\n",
    "print(d)"
   ],
   "outputs": [
    {
     "output_type": "stream",
     "name": "stdout",
     "text": [
      "[[1. 1.]\n",
      " [1. 1.]]\n"
     ]
    }
   ],
   "metadata": {}
  },
  {
   "cell_type": "code",
   "execution_count": 6,
   "source": [
    "#Array With Random Initial Values\r\n",
    "e=np.empty([3,3])\r\n",
    "print(e)"
   ],
   "outputs": [
    {
     "output_type": "stream",
     "name": "stdout",
     "text": [
      "[[0.000e+000 0.000e+000 0.000e+000]\n",
      " [0.000e+000 0.000e+000 6.087e-321]\n",
      " [0.000e+000 0.000e+000 0.000e+000]]\n"
     ]
    }
   ],
   "metadata": {}
  },
  {
   "cell_type": "code",
   "execution_count": 7,
   "source": [
    "#Array With Ones In The Diagonal and Zeros o.w\r\n",
    "\r\n",
    "print(np.eye(5))"
   ],
   "outputs": [
    {
     "output_type": "stream",
     "name": "stdout",
     "text": [
      "[[1. 0. 0. 0. 0.]\n",
      " [0. 1. 0. 0. 0.]\n",
      " [0. 0. 1. 0. 0.]\n",
      " [0. 0. 0. 1. 0.]\n",
      " [0. 0. 0. 0. 1.]]\n"
     ]
    }
   ],
   "metadata": {}
  },
  {
   "cell_type": "code",
   "execution_count": 8,
   "source": [
    "e= np.asarray([1,2,3,4,5,6]) #One-D\r\n",
    "print(e)"
   ],
   "outputs": [
    {
     "output_type": "stream",
     "name": "stdout",
     "text": [
      "[1 2 3 4 5 6]\n"
     ]
    }
   ],
   "metadata": {}
  },
  {
   "cell_type": "code",
   "execution_count": 9,
   "source": [
    "#The Difference Between np.array and np.asarray\r\n",
    "a=np.array([1,2],dtype=np.float32)\r\n",
    "\r\n",
    "print(np.array(a,dtype=np.float32) is a)\r\n",
    "print(np.array(a,dtype=np.float64) is a)\r\n",
    "\r\n",
    "print(np.asarray(a,dtype=np.float32) is a)\r\n",
    "print(np.asarray(a,dtype=np.float64) is a)"
   ],
   "outputs": [
    {
     "output_type": "stream",
     "name": "stdout",
     "text": [
      "False\n",
      "False\n",
      "True\n",
      "False\n"
     ]
    }
   ],
   "metadata": {}
  },
  {
   "cell_type": "code",
   "execution_count": 10,
   "source": [
    "A = np.matrix(np.ones((3,3)))\r\n",
    "print(A)\r\n",
    "print(\"----------------------\")\r\n",
    "np.array(A)[2]=2\r\n",
    "print(A)"
   ],
   "outputs": [
    {
     "output_type": "stream",
     "name": "stdout",
     "text": [
      "[[1. 1. 1.]\n",
      " [1. 1. 1.]\n",
      " [1. 1. 1.]]\n",
      "----------------------\n",
      "[[1. 1. 1.]\n",
      " [1. 1. 1.]\n",
      " [1. 1. 1.]]\n"
     ]
    }
   ],
   "metadata": {}
  },
  {
   "cell_type": "code",
   "execution_count": 11,
   "source": [
    "A = np.matrix(np.ones((3,3)))\r\n",
    "print(A)\r\n",
    "print(\"----------------------\")\r\n",
    "np.asarray(A)[2]=2\r\n",
    "print(A)"
   ],
   "outputs": [
    {
     "output_type": "stream",
     "name": "stdout",
     "text": [
      "[[1. 1. 1.]\n",
      " [1. 1. 1.]\n",
      " [1. 1. 1.]]\n",
      "----------------------\n",
      "[[1. 1. 1.]\n",
      " [1. 1. 1.]\n",
      " [2. 2. 2.]]\n"
     ]
    }
   ],
   "metadata": {}
  },
  {
   "cell_type": "code",
   "execution_count": 12,
   "source": [
    "#Sequence of Numbers \r\n",
    "f=np.arange(10,20,2)  #arange(start,end,step)\r\n",
    "print(f)"
   ],
   "outputs": [
    {
     "output_type": "stream",
     "name": "stdout",
     "text": [
      "[10 12 14 16 18]\n"
     ]
    }
   ],
   "metadata": {}
  },
  {
   "cell_type": "code",
   "execution_count": 13,
   "source": [
    "g=np.linspace(0,99,10) \r\n",
    "print(g)"
   ],
   "outputs": [
    {
     "output_type": "stream",
     "name": "stdout",
     "text": [
      "[ 0. 11. 22. 33. 44. 55. 66. 77. 88. 99.]\n"
     ]
    }
   ],
   "metadata": {}
  },
  {
   "cell_type": "markdown",
   "source": [
    "## 2-Important Attributies"
   ],
   "metadata": {}
  },
  {
   "cell_type": "code",
   "execution_count": 14,
   "source": [
    "a=np.array([[1,2],[3,4],[5,6]])\r\n",
    "print(a.shape)\r\n",
    "b=np.array([[[2],[2]],[[3],[4]],[[4],[5]]])\r\n",
    "print(b.shape)"
   ],
   "outputs": [
    {
     "output_type": "stream",
     "name": "stdout",
     "text": [
      "(3, 2)\n",
      "(3, 2, 1)\n"
     ]
    }
   ],
   "metadata": {}
  },
  {
   "cell_type": "code",
   "execution_count": 15,
   "source": [
    "print(a.size)\r\n",
    "# print(b.size)"
   ],
   "outputs": [
    {
     "output_type": "stream",
     "name": "stdout",
     "text": [
      "6\n"
     ]
    }
   ],
   "metadata": {}
  },
  {
   "cell_type": "code",
   "execution_count": 16,
   "source": [
    "print(a.ndim)\r\n",
    "print(b.ndim)"
   ],
   "outputs": [
    {
     "output_type": "stream",
     "name": "stdout",
     "text": [
      "2\n",
      "3\n"
     ]
    }
   ],
   "metadata": {}
  },
  {
   "cell_type": "code",
   "execution_count": 17,
   "source": [
    "a.dtype"
   ],
   "outputs": [
    {
     "output_type": "execute_result",
     "data": {
      "text/plain": [
       "dtype('int32')"
      ]
     },
     "metadata": {},
     "execution_count": 17
    }
   ],
   "metadata": {}
  },
  {
   "cell_type": "code",
   "execution_count": 18,
   "source": [
    "b=np.array([1.1,.5])\r\n",
    "b.dtype"
   ],
   "outputs": [
    {
     "output_type": "execute_result",
     "data": {
      "text/plain": [
       "dtype('float64')"
      ]
     },
     "metadata": {},
     "execution_count": 18
    }
   ],
   "metadata": {}
  },
  {
   "cell_type": "markdown",
   "source": [
    "## 3-Indexing & Slicing"
   ],
   "metadata": {}
  },
  {
   "cell_type": "code",
   "execution_count": 19,
   "source": [
    "a=np.array([[[1,2],[3,4]],[[5,6],[7,8]]])  #Indexing\r\n",
    "b=a[1][1][1]\r\n",
    "print(\"a:\",a)\r\n",
    "print(\"b:\",b)"
   ],
   "outputs": [
    {
     "output_type": "stream",
     "name": "stdout",
     "text": [
      "a: [[[1 2]\n",
      "  [3 4]]\n",
      "\n",
      " [[5 6]\n",
      "  [7 8]]]\n",
      "b: 8\n"
     ]
    }
   ],
   "metadata": {}
  },
  {
   "cell_type": "code",
   "execution_count": 20,
   "source": [
    "a=np.arange(10)        #Slicing   [0,1,2,3,4,5,6,7,8,9]\r\n",
    "print(a[2:8:2])\r\n",
    "print(a[2:8])\r\n",
    "print(a[2])\r\n",
    "print(a[2:])"
   ],
   "outputs": [
    {
     "output_type": "stream",
     "name": "stdout",
     "text": [
      "[2 4 6]\n",
      "[2 3 4 5 6 7]\n",
      "2\n",
      "[2 3 4 5 6 7 8 9]\n"
     ]
    }
   ],
   "metadata": {}
  },
  {
   "cell_type": "markdown",
   "source": [
    "## 4-Change The Shape of an array"
   ],
   "metadata": {}
  },
  {
   "cell_type": "code",
   "execution_count": 21,
   "source": [
    "a=np.arange(6)         \r\n",
    "print(a,\"-->\",a.shape)\r\n",
    "a.reshape(2,3)\r\n",
    "print(a,\"-->\",a.shape)\r\n",
    "print(\"----------------\")\r\n",
    "b=a.reshape(2,3)\r\n",
    "print(b,\"-->\",b.shape)"
   ],
   "outputs": [
    {
     "output_type": "stream",
     "name": "stdout",
     "text": [
      "[0 1 2 3 4 5] --> (6,)\n",
      "[0 1 2 3 4 5] --> (6,)\n",
      "----------------\n",
      "[[0 1 2]\n",
      " [3 4 5]] --> (2, 3)\n"
     ]
    }
   ],
   "metadata": {}
  },
  {
   "cell_type": "markdown",
   "source": [
    "## 5. Broadcasting"
   ],
   "metadata": {}
  },
  {
   "cell_type": "code",
   "execution_count": 22,
   "source": [
    "a=np.array([1,2,3,4])\r\n",
    "b=np.array([1,2,3,4])\r\n",
    "c=a*b\r\n",
    "print(c)\r\n",
    "\r\n",
    "# a=[1,2,3,4]\r\n",
    "# b=[1,2,3,4]\r\n",
    "# c=a*3\r\n",
    "# print(c)"
   ],
   "outputs": [
    {
     "output_type": "stream",
     "name": "stdout",
     "text": [
      "[ 1  4  9 16]\n"
     ]
    }
   ],
   "metadata": {}
  },
  {
   "cell_type": "code",
   "execution_count": 23,
   "source": [
    "# a=np.array([1,2,3,4])\r\n",
    "# b=np.array([1,2,3])\r\n",
    "# c=a*b\r\n",
    "# print(c)\r\n"
   ],
   "outputs": [],
   "metadata": {}
  },
  {
   "cell_type": "code",
   "execution_count": 24,
   "source": [
    "a=np.array([[1,2,3],[4,5,6],[7,8,9]])\r\n",
    "b=np.array([1,2,3])\r\n",
    "print(\"shape of a:\",a.shape)\r\n",
    "print(\"shape of b:\",b.shape)\r\n",
    "c=np.array([b,b,b])\r\n",
    "print(\"[b,b,b]:\",c)\r\n",
    "d=a+c\r\n",
    "print(\"broadcasing:\\n\",d)\r\n"
   ],
   "outputs": [
    {
     "output_type": "stream",
     "name": "stdout",
     "text": [
      "shape of a: (3, 3)\n",
      "shape of b: (3,)\n",
      "[b,b,b]: [[1 2 3]\n",
      " [1 2 3]\n",
      " [1 2 3]]\n",
      "broadcasing:\n",
      " [[ 2  4  6]\n",
      " [ 5  7  9]\n",
      " [ 8 10 12]]\n"
     ]
    }
   ],
   "metadata": {}
  },
  {
   "cell_type": "code",
   "execution_count": 25,
   "source": [
    "a=np.array([[1,2,3],[4,5,6],[7,8,9]])\r\n",
    "b=np.array([1,2,3])\r\n",
    "c=a+b\r\n",
    "print(c)"
   ],
   "outputs": [
    {
     "output_type": "stream",
     "name": "stdout",
     "text": [
      "[[ 2  4  6]\n",
      " [ 5  7  9]\n",
      " [ 8 10 12]]\n"
     ]
    }
   ],
   "metadata": {}
  },
  {
   "cell_type": "markdown",
   "source": [
    "## 6-Numpy Common Functions"
   ],
   "metadata": {}
  },
  {
   "cell_type": "code",
   "execution_count": 26,
   "source": [
    "a=np.array([[1,2,3],[4,5,6],[7,8,9]]) #flat Function\r\n",
    "print(a)\r\n",
    "print(a.flat[:])\r\n",
    "# print(a.shape)"
   ],
   "outputs": [
    {
     "output_type": "stream",
     "name": "stdout",
     "text": [
      "[[1 2 3]\n",
      " [4 5 6]\n",
      " [7 8 9]]\n",
      "[1 2 3 4 5 6 7 8 9]\n"
     ]
    }
   ],
   "metadata": {}
  },
  {
   "cell_type": "code",
   "execution_count": 27,
   "source": [
    "#Transpose \r\n",
    "a=np.array([[1,2,3],[4,5,6],[7,8,9]])\r\n",
    "print(a.shape)\r\n",
    "print(a)\r\n",
    "print(\"-------------\")\r\n",
    "print(np.transpose(a))"
   ],
   "outputs": [
    {
     "output_type": "stream",
     "name": "stdout",
     "text": [
      "(3, 3)\n",
      "[[1 2 3]\n",
      " [4 5 6]\n",
      " [7 8 9]]\n",
      "-------------\n",
      "[[1 4 7]\n",
      " [2 5 8]\n",
      " [3 6 9]]\n"
     ]
    }
   ],
   "metadata": {}
  },
  {
   "cell_type": "code",
   "execution_count": 28,
   "source": [
    "#Concate \r\n",
    "a=np.arange(6).reshape(2,3)\r\n",
    "b=np.arange(7,13).reshape(2,3)\r\n",
    "print(a)\r\n",
    "print(\"---------------\")\r\n",
    "print(b)"
   ],
   "outputs": [
    {
     "output_type": "stream",
     "name": "stdout",
     "text": [
      "[[0 1 2]\n",
      " [3 4 5]]\n",
      "---------------\n",
      "[[ 7  8  9]\n",
      " [10 11 12]]\n"
     ]
    }
   ],
   "metadata": {}
  },
  {
   "cell_type": "code",
   "execution_count": 29,
   "source": [
    "print(np.concatenate((a,b),axis=0))\r\n",
    "np.concatenate((a,b),axis=0).shape"
   ],
   "outputs": [
    {
     "output_type": "stream",
     "name": "stdout",
     "text": [
      "[[ 0  1  2]\n",
      " [ 3  4  5]\n",
      " [ 7  8  9]\n",
      " [10 11 12]]\n"
     ]
    },
    {
     "output_type": "execute_result",
     "data": {
      "text/plain": [
       "(4, 3)"
      ]
     },
     "metadata": {},
     "execution_count": 29
    }
   ],
   "metadata": {}
  },
  {
   "cell_type": "code",
   "execution_count": 30,
   "source": [
    "print(np.concatenate((a,b),axis=1)) \r\n",
    "np.concatenate((a,b),axis=1).shape"
   ],
   "outputs": [
    {
     "output_type": "stream",
     "name": "stdout",
     "text": [
      "[[ 0  1  2  7  8  9]\n",
      " [ 3  4  5 10 11 12]]\n"
     ]
    },
    {
     "output_type": "execute_result",
     "data": {
      "text/plain": [
       "(2, 6)"
      ]
     },
     "metadata": {},
     "execution_count": 30
    }
   ],
   "metadata": {}
  },
  {
   "cell_type": "code",
   "execution_count": 31,
   "source": [
    "#Stack Function \r\n",
    "a=np.arange(6).reshape(2,3)\r\n",
    "b=np.arange(7,13).reshape(2,3)\r\n",
    "c=np.stack((a,b),0)\r\n",
    "d=np.stack((a,b),1)\r\n",
    "print(a)\r\n",
    "print(b)\r\n",
    "print(\"c:\\n\",c)\r\n",
    "print(\"-------------\")\r\n",
    "print(\"d:\\n\",d)\r\n",
    "print(np.stack((a,b),0).shape)\r\n",
    "print(np.stack((a,b),1).shape)"
   ],
   "outputs": [
    {
     "output_type": "stream",
     "name": "stdout",
     "text": [
      "[[0 1 2]\n",
      " [3 4 5]]\n",
      "[[ 7  8  9]\n",
      " [10 11 12]]\n",
      "c:\n",
      " [[[ 0  1  2]\n",
      "  [ 3  4  5]]\n",
      "\n",
      " [[ 7  8  9]\n",
      "  [10 11 12]]]\n",
      "-------------\n",
      "d:\n",
      " [[[ 0  1  2]\n",
      "  [ 7  8  9]]\n",
      "\n",
      " [[ 3  4  5]\n",
      "  [10 11 12]]]\n",
      "(2, 2, 3)\n",
      "(2, 2, 3)\n"
     ]
    }
   ],
   "metadata": {}
  },
  {
   "cell_type": "code",
   "execution_count": 32,
   "source": [
    "#append\r\n",
    "a=np.array([[1,2,3],[4,5,6]])\r\n",
    "b=np.append(a,[[7,8,9]],axis=0)\r\n",
    "print(a)\r\n",
    "print(\"------------\")\r\n",
    "print(b)"
   ],
   "outputs": [
    {
     "output_type": "stream",
     "name": "stdout",
     "text": [
      "[[1 2 3]\n",
      " [4 5 6]]\n",
      "------------\n",
      "[[1 2 3]\n",
      " [4 5 6]\n",
      " [7 8 9]]\n"
     ]
    }
   ],
   "metadata": {}
  },
  {
   "cell_type": "code",
   "execution_count": 33,
   "source": [
    "c=np.append(a,[[7,8,9]])\r\n",
    "print(c)"
   ],
   "outputs": [
    {
     "output_type": "stream",
     "name": "stdout",
     "text": [
      "[1 2 3 4 5 6 7 8 9]\n"
     ]
    }
   ],
   "metadata": {}
  },
  {
   "cell_type": "code",
   "execution_count": 34,
   "source": [
    "#insert\r\n",
    "a=np.arange(6).reshape(2,3)\r\n",
    "print(\"a: \",a)\r\n",
    "b=np.insert(a,2,[7,8],axis=1)    \r\n",
    "print(\"b: \",b)\r\n",
    "c=np.insert(a,2,[7,8])   \r\n",
    "print(\"c: \",c)"
   ],
   "outputs": [
    {
     "output_type": "stream",
     "name": "stdout",
     "text": [
      "a:  [[0 1 2]\n",
      " [3 4 5]]\n",
      "b:  [[0 1 7 2]\n",
      " [3 4 8 5]]\n",
      "c:  [0 1 7 8 2 3 4 5]\n"
     ]
    }
   ],
   "metadata": {}
  },
  {
   "cell_type": "code",
   "execution_count": 35,
   "source": [
    "a=np.arange(6).reshape(2,3)  # 0,2,3,4,5\r\n",
    "b=np.delete(a,1,axis=1)\r\n",
    "c=np.delete(a,1)  \r\n",
    "print(\"a: \",a)\r\n",
    "print(\"b: \",b)\r\n",
    "print(\"c: \",c)"
   ],
   "outputs": [
    {
     "output_type": "stream",
     "name": "stdout",
     "text": [
      "a:  [[0 1 2]\n",
      " [3 4 5]]\n",
      "b:  [[0 2]\n",
      " [3 5]]\n",
      "c:  [0 2 3 4 5]\n"
     ]
    }
   ],
   "metadata": {}
  },
  {
   "cell_type": "markdown",
   "source": [
    "## 7- Matrix"
   ],
   "metadata": {}
  },
  {
   "cell_type": "code",
   "execution_count": 36,
   "source": [
    "import numpy.matlib"
   ],
   "outputs": [],
   "metadata": {}
  },
  {
   "cell_type": "code",
   "execution_count": 37,
   "source": [
    "mat_a=np.matlib.zeros((2,2))   #Matrix Full of Zeros\r\n",
    "print(mat_a)"
   ],
   "outputs": [
    {
     "output_type": "stream",
     "name": "stdout",
     "text": [
      "[[0. 0.]\n",
      " [0. 0.]]\n"
     ]
    }
   ],
   "metadata": {}
  },
  {
   "cell_type": "code",
   "execution_count": 38,
   "source": [
    "mat_b=np.matlib.ones((2,2))   #Matrix Full of Ones\r\n",
    "print(mat_b)"
   ],
   "outputs": [
    {
     "output_type": "stream",
     "name": "stdout",
     "text": [
      "[[1. 1.]\n",
      " [1. 1.]]\n"
     ]
    }
   ],
   "metadata": {}
  },
  {
   "cell_type": "code",
   "execution_count": 39,
   "source": [
    "c=np.matlib.eye((3))  #Matrix With Ones in Diagonal\r\n",
    "print(c)"
   ],
   "outputs": [
    {
     "output_type": "stream",
     "name": "stdout",
     "text": [
      "[[1. 0. 0.]\n",
      " [0. 1. 0.]\n",
      " [0. 0. 1.]]\n"
     ]
    }
   ],
   "metadata": {}
  },
  {
   "cell_type": "code",
   "execution_count": 40,
   "source": [
    "#Transfer Between Matrix and Array by np.mat()\r\n",
    "\r\n",
    "#Transfer Array to Matrix\r\n",
    "a=np.array([[1,2],[3,4]])\r\n",
    "b=np.mat(a)\r\n",
    "print(\"a: \",a)\r\n",
    "print(type(a))\r\n",
    "print(\"b: \",b)\r\n",
    "print(type(b))\r\n"
   ],
   "outputs": [
    {
     "output_type": "stream",
     "name": "stdout",
     "text": [
      "a:  [[1 2]\n",
      " [3 4]]\n",
      "<class 'numpy.ndarray'>\n",
      "b:  [[1 2]\n",
      " [3 4]]\n",
      "<class 'numpy.matrix'>\n"
     ]
    }
   ],
   "metadata": {}
  },
  {
   "cell_type": "code",
   "execution_count": 41,
   "source": [
    "#Transfer Matrix to Array  by getA()\r\n",
    "a=np.mat([[1,2,3],[4,5,6]])\r\n",
    "print(\"a: \",a)\r\n",
    "print(type(a))\r\n",
    "b=a.getA()\r\n",
    "print(\"b: \",b)\r\n",
    "print(type(b))"
   ],
   "outputs": [
    {
     "output_type": "stream",
     "name": "stdout",
     "text": [
      "a:  [[1 2 3]\n",
      " [4 5 6]]\n",
      "<class 'numpy.matrix'>\n",
      "b:  [[1 2 3]\n",
      " [4 5 6]]\n",
      "<class 'numpy.ndarray'>\n"
     ]
    }
   ],
   "metadata": {}
  },
  {
   "cell_type": "code",
   "execution_count": 42,
   "source": [
    "#Create A matrix with random Values by rand()\r\n",
    "a=np.matlib.rand(3,3)\r\n",
    "print(a)"
   ],
   "outputs": [
    {
     "output_type": "stream",
     "name": "stdout",
     "text": [
      "[[0.64952872 0.40676305 0.57022777]\n",
      " [0.35771744 0.99782273 0.47999641]\n",
      " [0.16778636 0.38132276 0.82057934]]\n"
     ]
    }
   ],
   "metadata": {}
  },
  {
   "cell_type": "code",
   "execution_count": 43,
   "source": [
    "#Matrix Operations \r\n",
    "\r\n",
    "#1-Matrix Multiplication\r\n",
    "a=np.array([[1,0],[0,1]])\r\n",
    "b=np.array([[1,1],[2,2]])\r\n",
    "print(\"a:\\n\",a,\"\\n\",\"b:\\n\",b)\r\n",
    "\r\n",
    "print(\"Multiply by dot()\\n\",np.dot(a,b))  \r\n",
    "print(\"Multiply by @\\n\",a@b)\r\n",
    "print(\"Multiply by np.multiply()\\n\",np.multiply(a,b))\r\n",
    "print(\"Multiply by *\\n\",a*b)\r\n"
   ],
   "outputs": [
    {
     "output_type": "stream",
     "name": "stdout",
     "text": [
      "a:\n",
      " [[1 0]\n",
      " [0 1]] \n",
      " b:\n",
      " [[1 1]\n",
      " [2 2]]\n",
      "Multiply by dot()\n",
      " [[1 1]\n",
      " [2 2]]\n",
      "Multiply by @\n",
      " [[1 1]\n",
      " [2 2]]\n",
      "Multiply by np.multiply()\n",
      " [[1 0]\n",
      " [0 2]]\n",
      "Multiply by *\n",
      " [[1 0]\n",
      " [0 2]]\n"
     ]
    }
   ],
   "metadata": {}
  },
  {
   "cell_type": "code",
   "execution_count": 44,
   "source": [
    "a=np.array([1,2,3])\r\n",
    "b=np.mat(a)\r\n",
    "c=np.matrix(a)\r\n",
    "d=np.asmatrix(a)\r\n",
    "print(\"a= \",a ,a.shape)\r\n",
    "print(\"b= \",b ,b.shape)\r\n",
    "print(\"c= \",c ,c.shape)\r\n",
    "print(\"d= \",d ,d.shape)"
   ],
   "outputs": [
    {
     "output_type": "stream",
     "name": "stdout",
     "text": [
      "a=  [1 2 3] (3,)\n",
      "b=  [[1 2 3]] (1, 3)\n",
      "c=  [[1 2 3]] (1, 3)\n",
      "d=  [[1 2 3]] (1, 3)\n"
     ]
    }
   ],
   "metadata": {}
  },
  {
   "cell_type": "code",
   "execution_count": 45,
   "source": [
    "#Inverse Matrix\r\n",
    "a=np.matrix([[2,0,0],\r\n",
    "           [0,1,0],\r\n",
    "           [0,0,2]])\r\n",
    "b=a.I\r\n",
    "print(a)\r\n",
    "print(b)"
   ],
   "outputs": [
    {
     "output_type": "stream",
     "name": "stdout",
     "text": [
      "[[2 0 0]\n",
      " [0 1 0]\n",
      " [0 0 2]]\n",
      "[[0.5 0.  0. ]\n",
      " [0.  1.  0. ]\n",
      " [0.  0.  0.5]]\n"
     ]
    }
   ],
   "metadata": {}
  },
  {
   "cell_type": "code",
   "execution_count": 46,
   "source": [
    "np.linalg.inv(b)"
   ],
   "outputs": [
    {
     "output_type": "execute_result",
     "data": {
      "text/plain": [
       "matrix([[2., 0., 0.],\n",
       "        [0., 1., 0.],\n",
       "        [0., 0., 2.]])"
      ]
     },
     "metadata": {},
     "execution_count": 46
    }
   ],
   "metadata": {}
  },
  {
   "cell_type": "code",
   "execution_count": 47,
   "source": [
    "#Det. of a matrix\r\n",
    "\r\n",
    "a=np.matrix([[1,2],[3,4]])\r\n",
    "b=np.linalg.det(a)\r\n",
    "print(\"Matrix a: \\n\",a)\r\n",
    "print(\"Det. of Matrix a: \\n\",b)"
   ],
   "outputs": [
    {
     "output_type": "stream",
     "name": "stdout",
     "text": [
      "Matrix a: \n",
      " [[1 2]\n",
      " [3 4]]\n",
      "Det. of Matrix a: \n",
      " -2.0000000000000004\n"
     ]
    }
   ],
   "metadata": {}
  },
  {
   "cell_type": "code",
   "execution_count": 48,
   "source": [
    "#Sum Function\r\n",
    "a=np.array([[1,2],\r\n",
    "           [3,4]])\r\n",
    "b=a.sum(axis=0)   #Sum by Col.s\r\n",
    "c=a.sum(axis=1)   #Sum by Rows\r\n",
    "\r\n",
    "print(\"a:\\n\",a)\r\n",
    "print(\"b:\\n\",b)\r\n",
    "print(\"c:\\n\",c)\r\n"
   ],
   "outputs": [
    {
     "output_type": "stream",
     "name": "stdout",
     "text": [
      "a:\n",
      " [[1 2]\n",
      " [3 4]]\n",
      "b:\n",
      " [4 6]\n",
      "c:\n",
      " [3 7]\n"
     ]
    }
   ],
   "metadata": {}
  },
  {
   "cell_type": "code",
   "execution_count": 49,
   "source": [
    "#Min and Max Functions\r\n",
    "d=a.min()\r\n",
    "e=a.max()\r\n",
    "print(\"Min of a:\",d)\r\n",
    "print(\"\\nMax of a:\",e)"
   ],
   "outputs": [
    {
     "output_type": "stream",
     "name": "stdout",
     "text": [
      "Min of a: 1\n",
      "\n",
      "Max of a: 4\n"
     ]
    }
   ],
   "metadata": {}
  },
  {
   "cell_type": "markdown",
   "source": [
    "## Random Sampling"
   ],
   "metadata": {}
  },
  {
   "cell_type": "code",
   "execution_count": 50,
   "source": [
    "r1=np.random.rand(2,2)\r\n",
    "r2=np.random.randn(2,2)\r\n",
    "r3=np.random.randint(0,5)\r\n",
    "\r\n",
    "print(\"r1: \",r1)\r\n",
    "print(\"\\nr2: \",r2)\r\n",
    "print(\"\\nr3: \",r3)"
   ],
   "outputs": [
    {
     "output_type": "stream",
     "name": "stdout",
     "text": [
      "r1:  [[0.38943983 0.17929981]\n",
      " [0.0982321  0.49225462]]\n",
      "\n",
      "r2:  [[-0.7658067  -0.62248638]\n",
      " [-0.63055024 -1.89716986]]\n",
      "\n",
      "r3:  2\n"
     ]
    }
   ],
   "metadata": {}
  },
  {
   "cell_type": "code",
   "execution_count": 51,
   "source": [
    "r3=np.random.choice([1,2,3,4,5],(2,2))\r\n",
    "print(r3)"
   ],
   "outputs": [
    {
     "output_type": "stream",
     "name": "stdout",
     "text": [
      "[[3 4]\n",
      " [3 4]]\n"
     ]
    }
   ],
   "metadata": {}
  },
  {
   "cell_type": "code",
   "execution_count": 52,
   "source": [
    "#Permutation\r\n",
    "a=np.array([1,2,3,4,5])\r\n",
    "print(\"Before Shuffle:\",a)\r\n",
    "np.random.shuffle(a)\r\n",
    "print(a)\r\n",
    "b=np.random.permutation(a)\r\n",
    "print(b)\r\n"
   ],
   "outputs": [
    {
     "output_type": "stream",
     "name": "stdout",
     "text": [
      "Before Shuffle: [1 2 3 4 5]\n",
      "[5 1 4 2 3]\n",
      "[5 4 2 1 3]\n"
     ]
    }
   ],
   "metadata": {}
  },
  {
   "cell_type": "code",
   "execution_count": 53,
   "source": [
    "#Distributions\r\n",
    "\r\n",
    "r1=np.random.normal(0,0.1,5)\r\n",
    "r2=np.random.uniform(0,5,2)\r\n",
    "print(r1)\r\n",
    "print(r2)"
   ],
   "outputs": [
    {
     "output_type": "stream",
     "name": "stdout",
     "text": [
      "[ 0.10134757  0.13740602  0.13666401 -0.21500043 -0.10958911]\n",
      "[2.77738789 3.95293621]\n"
     ]
    }
   ],
   "metadata": {}
  },
  {
   "cell_type": "markdown",
   "source": [
    "## Common Mathematical Functions"
   ],
   "metadata": {}
  },
  {
   "cell_type": "code",
   "execution_count": 54,
   "source": [
    "#Sin & Cos\r\n",
    "a=np.array([0,30,45,60,90])\r\n",
    "b=np.sin(a*np.pi/180)\r\n",
    "c=np.cos(a*np.pi/180)\r\n",
    "print(a)\r\n",
    "print(b)\r\n",
    "print(c)"
   ],
   "outputs": [
    {
     "output_type": "stream",
     "name": "stdout",
     "text": [
      "[ 0 30 45 60 90]\n",
      "[0.         0.5        0.70710678 0.8660254  1.        ]\n",
      "[1.00000000e+00 8.66025404e-01 7.07106781e-01 5.00000000e-01\n",
      " 6.12323400e-17]\n"
     ]
    }
   ],
   "metadata": {}
  },
  {
   "cell_type": "code",
   "execution_count": 55,
   "source": [
    "#Rounding\r\n",
    "a=np.array([1.0,1.4,2.0,2.55])\r\n",
    "b=np.around(a)\r\n",
    "c=np.around(a,decimals=1)\r\n",
    "print(b)\r\n",
    "print(c)\r\n",
    "d=np.floor(a)\r\n",
    "print(d)\r\n",
    "e=np.ceil(a)\r\n",
    "print(e)"
   ],
   "outputs": [
    {
     "output_type": "stream",
     "name": "stdout",
     "text": [
      "[1. 1. 2. 3.]\n",
      "[1.  1.4 2.  2.6]\n",
      "[1. 1. 2. 2.]\n",
      "[1. 2. 2. 3.]\n"
     ]
    }
   ],
   "metadata": {}
  },
  {
   "cell_type": "code",
   "execution_count": 56,
   "source": [
    "#Arithmatic Operations\r\n",
    "a=np.array([1,2,3,4])\r\n",
    "b=np.array([4,3,2,1])\r\n",
    "c=np.add(a,b)\r\n",
    "d=np.subtract(a,b)\r\n",
    "print(\"a+b:\",c)\r\n",
    "print(\"a-b:\",d)\r\n",
    "e=np.multiply(a,b)\r\n",
    "print(\"a*b:\",e)\r\n",
    "f=np.divide(a,b)\r\n",
    "print(\"a/b:\",f)\r\n",
    "g=np.mod(a,b)\r\n",
    "print(\"a mod b:\",g)\r\n",
    "h=np.power(a,b)\r\n",
    "print(\"a^b:\",h)"
   ],
   "outputs": [
    {
     "output_type": "stream",
     "name": "stdout",
     "text": [
      "a+b: [5 5 5 5]\n",
      "a-b: [-3 -1  1  3]\n",
      "a*b: [4 6 6 4]\n",
      "a/b: [0.25       0.66666667 1.5        4.        ]\n",
      "a mod b: [1 2 1 0]\n",
      "a^b: [1 8 9 4]\n"
     ]
    }
   ],
   "metadata": {}
  },
  {
   "cell_type": "code",
   "execution_count": 57,
   "source": [
    "#Statistical Functions\r\n",
    "a=np.array([[6,7,2],[0,1,5]])        # 6,7,2,0,1,5 ---> #0,1,2,5,6,7\r\n",
    "b=np.amin(a,axis=0)    #min from each Col\r\n",
    "print(b)\r\n",
    "c=np.amax(a,axis=1)    #max from each row\r\n",
    "print(c)\r\n",
    "d=np.median(a)\r\n",
    "print(\"Median:\",d)\r\n",
    "e=np.mean(a)\r\n",
    "print(\"Mean:\",e)"
   ],
   "outputs": [
    {
     "output_type": "stream",
     "name": "stdout",
     "text": [
      "[0 1 2]\n",
      "[7 5]\n",
      "Median: 3.5\n",
      "Mean: 3.5\n"
     ]
    }
   ],
   "metadata": {}
  },
  {
   "cell_type": "code",
   "execution_count": 58,
   "source": [
    "#Sort Function\r\n",
    "a=np.array([[3,5,1],[2,8,7]])   #[3 5 1 ]\r\n",
    "b=np.sort(a)                    #[2 8 7 ]\r\n",
    "print(b)\r\n",
    "c=np.sort(a,axis=0)\r\n",
    "print(c)"
   ],
   "outputs": [
    {
     "output_type": "stream",
     "name": "stdout",
     "text": [
      "[[1 3 5]\n",
      " [2 7 8]]\n",
      "[[2 5 1]\n",
      " [3 8 7]]\n"
     ]
    }
   ],
   "metadata": {}
  },
  {
   "cell_type": "markdown",
   "source": [
    "## Generator"
   ],
   "metadata": {}
  },
  {
   "cell_type": "code",
   "execution_count": 59,
   "source": [
    "import collections as c\r\n",
    "print(isinstance([],c.Iterable))\r\n",
    "print(isinstance('abc',c.Iterable))\r\n",
    "print(isinstance(100,c.Iterable))\r\n"
   ],
   "outputs": [
    {
     "output_type": "stream",
     "name": "stdout",
     "text": [
      "True\n",
      "True\n",
      "False\n"
     ]
    },
    {
     "output_type": "stream",
     "name": "stderr",
     "text": [
      "<ipython-input-59-867bc1cdbd39>:2: DeprecationWarning: Using or importing the ABCs from 'collections' instead of from 'collections.abc' is deprecated since Python 3.3, and in 3.9 it will stop working\n",
      "  print(isinstance([],c.Iterable))\n"
     ]
    }
   ],
   "metadata": {}
  },
  {
   "cell_type": "code",
   "execution_count": 60,
   "source": [
    "l=[1,2,3,4,5]\r\n",
    "print(type(l))\r\n",
    "it=iter(l)\r\n",
    "print(type(it))"
   ],
   "outputs": [
    {
     "output_type": "stream",
     "name": "stdout",
     "text": [
      "<class 'list'>\n",
      "<class 'list_iterator'>\n"
     ]
    }
   ],
   "metadata": {}
  },
  {
   "cell_type": "code",
   "execution_count": 61,
   "source": [
    "next(it)"
   ],
   "outputs": [
    {
     "output_type": "execute_result",
     "data": {
      "text/plain": [
       "1"
      ]
     },
     "metadata": {},
     "execution_count": 61
    }
   ],
   "metadata": {}
  },
  {
   "cell_type": "code",
   "execution_count": 62,
   "source": [
    "next(it)"
   ],
   "outputs": [
    {
     "output_type": "execute_result",
     "data": {
      "text/plain": [
       "2"
      ]
     },
     "metadata": {},
     "execution_count": 62
    }
   ],
   "metadata": {}
  },
  {
   "cell_type": "code",
   "execution_count": 66,
   "source": [
    "#fib Function \r\n",
    "def fib(n):\r\n",
    "    c= 0\r\n",
    "    num1,num2= 0,1\r\n",
    "    while (c < n):\r\n",
    "        num=num1\r\n",
    "        num1,num2= num2,num1+num2\r\n",
    "        c=c+1\r\n",
    "        yield num\r\n",
    "    yield \"done\"\r\n",
    "g=fib(5)    \r\n",
    "for x in g:\r\n",
    "    print(x)"
   ],
   "outputs": [
    {
     "output_type": "stream",
     "name": "stdout",
     "text": [
      "0\n",
      "1\n",
      "1\n",
      "2\n",
      "3\n",
      "done\n",
      "<generator object fib at 0x000001C43D4EBAC0>\n"
     ]
    }
   ],
   "metadata": {}
  },
  {
   "cell_type": "code",
   "execution_count": 64,
   "source": [
    "g=[x*2 for x in range(5)]\r\n",
    "for x in g:\r\n",
    "    print(x)\r\n"
   ],
   "outputs": [
    {
     "output_type": "stream",
     "name": "stdout",
     "text": [
      "0\n",
      "2\n",
      "4\n",
      "6\n",
      "8\n"
     ]
    }
   ],
   "metadata": {}
  },
  {
   "cell_type": "markdown",
   "source": [
    "## Decorator"
   ],
   "metadata": {}
  },
  {
   "cell_type": "code",
   "execution_count": 68,
   "source": [
    "def decorate(func):\r\n",
    "    def decorated():\r\n",
    "        print(\"i got decorated\")\r\n",
    "        func()\r\n",
    "    return decorated\r\n",
    "\r\n",
    "@decorate\r\n",
    "def plain():\r\n",
    "    print(\"iam plain\")\r\n",
    "    \r\n",
    "plain()\r\n"
   ],
   "outputs": [
    {
     "output_type": "stream",
     "name": "stdout",
     "text": [
      "i got decorated\n",
      "iam plain\n"
     ]
    }
   ],
   "metadata": {}
  },
  {
   "cell_type": "code",
   "execution_count": null,
   "source": [],
   "outputs": [],
   "metadata": {}
  },
  {
   "cell_type": "code",
   "execution_count": null,
   "source": [],
   "outputs": [],
   "metadata": {}
  },
  {
   "cell_type": "code",
   "execution_count": null,
   "source": [],
   "outputs": [],
   "metadata": {}
  }
 ],
 "metadata": {
  "kernelspec": {
   "display_name": "Python 3",
   "language": "python",
   "name": "python3"
  },
  "language_info": {
   "codemirror_mode": {
    "name": "ipython",
    "version": 3
   },
   "file_extension": ".py",
   "mimetype": "text/x-python",
   "name": "python",
   "nbconvert_exporter": "python",
   "pygments_lexer": "ipython3",
   "version": "3.8.8"
  }
 },
 "nbformat": 4,
 "nbformat_minor": 5
}