{
  "nbformat": 4,
  "nbformat_minor": 2,
  "metadata": {
    "colab": {
      "name": "python basics.ipynb",
      "provenance": [],
      "collapsed_sections": []
    },
    "kernelspec": {
      "name": "python3",
      "display_name": "Python 3"
    },
    "language_info": {
      "name": "python"
    }
  },
  "cells": [
    {
      "cell_type": "markdown",
      "source": [
        "###**len**() function"
      ],
      "metadata": {
        "id": "-p0uvLdns6NF"
      }
    },
    {
      "cell_type": "code",
      "execution_count": 1,
      "source": [
        "len('Hello')"
      ],
      "outputs": [
        {
          "output_type": "execute_result",
          "data": {
            "text/plain": [
              "5"
            ]
          },
          "metadata": {
            "tags": []
          },
          "execution_count": 1
        }
      ],
      "metadata": {
        "colab": {
          "base_uri": "https://localhost:8080/"
        },
        "id": "Sj8BGEeMs81h",
        "outputId": "6d943a07-c9c5-4e96-fda6-e550f9bacb03"
      }
    },
    {
      "cell_type": "code",
      "execution_count": 117,
      "source": [
        "student=['eman', 'aya', 'fatima', 'reem']\r\n",
        "len(student)"
      ],
      "outputs": [
        {
          "output_type": "execute_result",
          "data": {
            "text/plain": [
              "4"
            ]
          },
          "metadata": {
            "tags": []
          },
          "execution_count": 117
        }
      ],
      "metadata": {
        "colab": {
          "base_uri": "https://localhost:8080/"
        },
        "id": "7hugdbdwmqa8",
        "outputId": "65706678-8bb2-48d3-d8c8-e57d67fce1f5"
      }
    },
    {
      "cell_type": "markdown",
      "source": [
        "###Escape Sequence"
      ],
      "metadata": {
        "id": "qn8rmlDetcuZ"
      }
    },
    {
      "cell_type": "code",
      "execution_count": 2,
      "source": [
        "s= \"python\\\"\"\r\n",
        "print(s)"
      ],
      "outputs": [
        {
          "output_type": "stream",
          "name": "stdout",
          "text": [
            "python\"\n"
          ]
        }
      ],
      "metadata": {
        "colab": {
          "base_uri": "https://localhost:8080/"
        },
        "id": "Y7vNIdlbtraX",
        "outputId": "080c203f-88b3-41b8-bf2f-a286368e2561"
      }
    },
    {
      "cell_type": "code",
      "execution_count": 3,
      "source": [
        "s= \"python\\\\\"\r\n",
        "print(s)"
      ],
      "outputs": [
        {
          "output_type": "stream",
          "name": "stdout",
          "text": [
            "python\\\n"
          ]
        }
      ],
      "metadata": {
        "colab": {
          "base_uri": "https://localhost:8080/"
        },
        "id": "UW_2xDJ3uEay",
        "outputId": "6f886478-17f0-4031-f8bf-29215fec4d98"
      }
    },
    {
      "cell_type": "code",
      "execution_count": 4,
      "source": [
        "#\\n (backslash n to start new line)\r\n",
        "s= \"python\\nprogramming\"\r\n",
        "print(s)"
      ],
      "outputs": [
        {
          "output_type": "stream",
          "name": "stdout",
          "text": [
            "python\n",
            "programming\n"
          ]
        }
      ],
      "metadata": {
        "colab": {
          "base_uri": "https://localhost:8080/"
        },
        "id": "NhY0R9fXuWE_",
        "outputId": "4e8aa9e4-053b-4388-fbdd-91c11a8eff14"
      }
    },
    {
      "cell_type": "markdown",
      "source": [
        "###**split**() function"
      ],
      "metadata": {
        "id": "PtR08-dwvaMu"
      }
    },
    {
      "cell_type": "code",
      "execution_count": 5,
      "source": [
        "# split\r\n",
        "# str.split(str1)：split a string by str1\r\n",
        "s = \"python is cool\"\r\n",
        "s.split()"
      ],
      "outputs": [
        {
          "output_type": "execute_result",
          "data": {
            "text/plain": [
              "['python', 'is', 'cool']"
            ]
          },
          "metadata": {
            "tags": []
          },
          "execution_count": 5
        }
      ],
      "metadata": {
        "colab": {
          "base_uri": "https://localhost:8080/"
        },
        "id": "oAA3gA5MukAV",
        "outputId": "59029c85-25ea-4db8-fd73-80745c8f2424"
      }
    },
    {
      "cell_type": "code",
      "execution_count": 6,
      "source": [
        "s = \"python_is_cool\"\r\n",
        "s.split('_')"
      ],
      "outputs": [
        {
          "output_type": "execute_result",
          "data": {
            "text/plain": [
              "['python', 'is', 'cool']"
            ]
          },
          "metadata": {
            "tags": []
          },
          "execution_count": 6
        }
      ],
      "metadata": {
        "colab": {
          "base_uri": "https://localhost:8080/"
        },
        "id": "gwml3mBqvNdS",
        "outputId": "aae91d23-d045-4844-8b48-bdca749da770"
      }
    },
    {
      "cell_type": "markdown",
      "source": [
        "## join"
      ],
      "metadata": {
        "id": "_yNReXUCxJUH"
      }
    },
    {
      "cell_type": "code",
      "execution_count": 7,
      "source": [
        "\r\n",
        "# str.join(iter)：join the string by iner\r\n",
        "\"--\".join(['python','is','cool'])"
      ],
      "outputs": [
        {
          "output_type": "execute_result",
          "data": {
            "text/plain": [
              "'python--is--cool'"
            ],
            "application/vnd.google.colaboratory.intrinsic+json": {
              "type": "string"
            }
          },
          "metadata": {
            "tags": []
          },
          "execution_count": 7
        }
      ],
      "metadata": {
        "colab": {
          "base_uri": "https://localhost:8080/",
          "height": 36
        },
        "id": "ZzaXOiUcxHxQ",
        "outputId": "80bcbe20-e69b-443c-b4b8-8ba735329720"
      }
    },
    {
      "cell_type": "code",
      "execution_count": 8,
      "source": [
        "# str.join(iter)：join the string by iner\r\n",
        "\" \".join(['python','is','cool'])"
      ],
      "outputs": [
        {
          "output_type": "execute_result",
          "data": {
            "text/plain": [
              "'python is cool'"
            ],
            "application/vnd.google.colaboratory.intrinsic+json": {
              "type": "string"
            }
          },
          "metadata": {
            "tags": []
          },
          "execution_count": 8
        }
      ],
      "metadata": {
        "colab": {
          "base_uri": "https://localhost:8080/",
          "height": 36
        },
        "id": "jVViUn4txcBv",
        "outputId": "ba9db41c-8975-4d81-d746-d4a79000e720"
      }
    },
    {
      "cell_type": "code",
      "execution_count": 9,
      "source": [
        "# replace\r\n",
        "# str.replace(str1,str2)：replace the str1 by str2\r\n",
        "s = 'python'\r\n",
        "s.replace('py','ABC')"
      ],
      "outputs": [
        {
          "output_type": "execute_result",
          "data": {
            "text/plain": [
              "'ABCthon'"
            ],
            "application/vnd.google.colaboratory.intrinsic+json": {
              "type": "string"
            }
          },
          "metadata": {
            "tags": []
          },
          "execution_count": 9
        }
      ],
      "metadata": {
        "colab": {
          "base_uri": "https://localhost:8080/",
          "height": 36
        },
        "id": "MTxadsJ0vDRD",
        "outputId": "348b4eaa-b902-4528-eea2-656dc618c644"
      }
    },
    {
      "cell_type": "markdown",
      "source": [
        "## str.upper()\n",
        "## str.lower()"
      ],
      "metadata": {
        "id": "QgQ5mu-cwtgH"
      }
    },
    {
      "cell_type": "code",
      "execution_count": 10,
      "source": [
        "# lower and upper\r\n",
        "# str.lower()：lower a string\r\n",
        "# str.upper()：upper a string\r\n",
        "s = \"PYthon\"\r\n",
        "print(s.lower())\r\n",
        "print(s.upper())"
      ],
      "outputs": [
        {
          "output_type": "stream",
          "name": "stdout",
          "text": [
            "python\n",
            "PYTHON\n"
          ]
        }
      ],
      "metadata": {
        "colab": {
          "base_uri": "https://localhost:8080/"
        },
        "id": "WZBA58tUwU1Q",
        "outputId": "fc11de47-b2ca-47c1-9d6c-5be813fc0b28"
      }
    },
    {
      "cell_type": "code",
      "execution_count": 11,
      "source": [
        "animals =['cat','dog','bird']\r\n",
        "for i,x in enumerate (animals):\r\n",
        "  print(i,x)"
      ],
      "outputs": [
        {
          "output_type": "stream",
          "name": "stdout",
          "text": [
            "0 cat\n",
            "1 dog\n",
            "2 bird\n"
          ]
        }
      ],
      "metadata": {
        "colab": {
          "base_uri": "https://localhost:8080/"
        },
        "id": "hVvY8WlMwqqe",
        "outputId": "8c5fed74-9ecc-4982-c9dd-6dad78d3382b"
      }
    },
    {
      "cell_type": "code",
      "execution_count": 12,
      "source": [
        "for x in (animals):\r\n",
        "  print(x)"
      ],
      "outputs": [
        {
          "output_type": "stream",
          "name": "stdout",
          "text": [
            "cat\n",
            "dog\n",
            "bird\n"
          ]
        }
      ],
      "metadata": {
        "colab": {
          "base_uri": "https://localhost:8080/"
        },
        "id": "ded4nrFgyK1U",
        "outputId": "7966b866-15ba-46d4-cb59-89947cb19ee3"
      }
    },
    {
      "cell_type": "code",
      "execution_count": 13,
      "source": [
        "# List sort\r\n",
        "list1 = [ 12, 45 , 32 ,55]\r\n",
        "list1.sort()"
      ],
      "outputs": [],
      "metadata": {
        "id": "yK7ixMUVyPlb"
      }
    },
    {
      "cell_type": "code",
      "execution_count": 14,
      "source": [
        "list1"
      ],
      "outputs": [
        {
          "output_type": "execute_result",
          "data": {
            "text/plain": [
              "[12, 32, 45, 55]"
            ]
          },
          "metadata": {
            "tags": []
          },
          "execution_count": 14
        }
      ],
      "metadata": {
        "colab": {
          "base_uri": "https://localhost:8080/"
        },
        "id": "2sTnzQhYyrv-",
        "outputId": "8bfcd31f-51e2-4822-a493-c4574e9eabe4"
      }
    },
    {
      "cell_type": "code",
      "execution_count": 15,
      "source": [
        "# list.reverse()\r\n",
        "list1.reverse()"
      ],
      "outputs": [],
      "metadata": {
        "id": "nF-rIPUlytt5"
      }
    },
    {
      "cell_type": "code",
      "execution_count": 16,
      "source": [
        "l =[[1,3],[4,5]]\r\n",
        "l[1][0]"
      ],
      "outputs": [
        {
          "output_type": "execute_result",
          "data": {
            "text/plain": [
              "4"
            ]
          },
          "metadata": {
            "tags": []
          },
          "execution_count": 16
        }
      ],
      "metadata": {
        "colab": {
          "base_uri": "https://localhost:8080/"
        },
        "id": "U6JEvdPGy5n3",
        "outputId": "79b6896e-cbf0-44f1-f011-699aa250f7a4"
      }
    },
    {
      "cell_type": "code",
      "execution_count": 17,
      "source": [
        "l =[[1,3,5,7,9,3,0],[4,5,66,2,9,0,0]]\r\n",
        "l[1][0]"
      ],
      "outputs": [
        {
          "output_type": "execute_result",
          "data": {
            "text/plain": [
              "4"
            ]
          },
          "metadata": {
            "tags": []
          },
          "execution_count": 17
        }
      ],
      "metadata": {
        "colab": {
          "base_uri": "https://localhost:8080/"
        },
        "id": "rVNTGjORzejH",
        "outputId": "96dd5b13-1482-4e93-c6cc-f10f4ea01181"
      }
    },
    {
      "cell_type": "markdown",
      "source": [
        "##**Sets {}**\n",
        "- sets not orderd and not indexed\n",
        "- set slicing can't be done\n",
        "- i cant use in it lists  , and dictionaries use only immutable data type\n",
        "- items in set should be unique"
      ],
      "metadata": {
        "id": "DhXCza1c0LvO"
      }
    },
    {
      "cell_type": "code",
      "execution_count": 18,
      "source": [
        "#sets not orderd and not indexed\r\n",
        "My_set1={\"xx\" , \"tt\" , 1000}\r\n",
        "My_set2 = set(['Prince','Techs'])"
      ],
      "outputs": [],
      "metadata": {
        "id": "lVm-mcggzn56"
      }
    },
    {
      "cell_type": "code",
      "execution_count": 19,
      "source": [
        "My_set1"
      ],
      "outputs": [
        {
          "output_type": "execute_result",
          "data": {
            "text/plain": [
              "{1000, 'tt', 'xx'}"
            ]
          },
          "metadata": {
            "tags": []
          },
          "execution_count": 19
        }
      ],
      "metadata": {
        "colab": {
          "base_uri": "https://localhost:8080/"
        },
        "id": "pz1UCyoG0_PU",
        "outputId": "39508fc7-c6b6-4f9a-ef05-296aa9345131"
      }
    },
    {
      "cell_type": "code",
      "execution_count": 20,
      "source": [
        "My_set2"
      ],
      "outputs": [
        {
          "output_type": "execute_result",
          "data": {
            "text/plain": [
              "{'Prince', 'Techs'}"
            ]
          },
          "metadata": {
            "tags": []
          },
          "execution_count": 20
        }
      ],
      "metadata": {
        "colab": {
          "base_uri": "https://localhost:8080/"
        },
        "id": "cRlyQdBM4viM",
        "outputId": "60bf446e-d7ae-42d3-b607-65c0b246f746"
      }
    },
    {
      "cell_type": "code",
      "execution_count": 21,
      "source": [
        "#My_set1[0]  #Error because sets not indexed"
      ],
      "outputs": [],
      "metadata": {
        "id": "soJf1LyT1BLt"
      }
    },
    {
      "cell_type": "code",
      "execution_count": 22,
      "source": [
        "#i cant use in it lists  , tuples , dictinaries\r\n",
        "#My_set1={\"xx\" , \"tt\" , 1000,[1,2]}    #Error because tger's set in the list"
      ],
      "outputs": [],
      "metadata": {
        "id": "f6K68YsJ1G0V"
      }
    },
    {
      "cell_type": "code",
      "execution_count": 23,
      "source": [
        "My_set1={\"xx\" , \"tt\" , 1000,(1,2)}  #accept tuples because it's immutable"
      ],
      "outputs": [],
      "metadata": {
        "id": "xyVevl-U2mSB"
      }
    },
    {
      "cell_type": "code",
      "execution_count": 24,
      "source": [
        "My_set1"
      ],
      "outputs": [
        {
          "output_type": "execute_result",
          "data": {
            "text/plain": [
              "{(1, 2), 1000, 'tt', 'xx'}"
            ]
          },
          "metadata": {
            "tags": []
          },
          "execution_count": 24
        }
      ],
      "metadata": {
        "colab": {
          "base_uri": "https://localhost:8080/"
        },
        "id": "KaHE_LS13BkJ",
        "outputId": "0bdb2b48-e9fe-4696-fa71-3f1d6fa550d3"
      }
    },
    {
      "cell_type": "code",
      "execution_count": 25,
      "source": [
        "#asked if 1000 in the set\r\n",
        "1000 in My_set1"
      ],
      "outputs": [
        {
          "output_type": "execute_result",
          "data": {
            "text/plain": [
              "True"
            ]
          },
          "metadata": {
            "tags": []
          },
          "execution_count": 25
        }
      ],
      "metadata": {
        "colab": {
          "base_uri": "https://localhost:8080/"
        },
        "id": "mbH2NveU5i0y",
        "outputId": "8eca7e6b-0a0b-4218-fb7e-36776bbb56aa"
      }
    },
    {
      "cell_type": "code",
      "execution_count": 26,
      "source": [
        "len(My_set1)"
      ],
      "outputs": [
        {
          "output_type": "execute_result",
          "data": {
            "text/plain": [
              "4"
            ]
          },
          "metadata": {
            "tags": []
          },
          "execution_count": 26
        }
      ],
      "metadata": {
        "colab": {
          "base_uri": "https://localhost:8080/"
        },
        "id": "upjauGtK5yij",
        "outputId": "d5bd3d56-55ab-461e-bfc1-4a124b1c31fc"
      }
    },
    {
      "cell_type": "code",
      "execution_count": 27,
      "source": [
        "#set.remove(obj)：removes an element from a set\r\n",
        "My_set1.remove(1000)"
      ],
      "outputs": [],
      "metadata": {
        "id": "Wyrk62Aw6B5M"
      }
    },
    {
      "cell_type": "code",
      "execution_count": 28,
      "source": [
        "1000 in My_set1"
      ],
      "outputs": [
        {
          "output_type": "execute_result",
          "data": {
            "text/plain": [
              "False"
            ]
          },
          "metadata": {
            "tags": []
          },
          "execution_count": 28
        }
      ],
      "metadata": {
        "colab": {
          "base_uri": "https://localhost:8080/"
        },
        "id": "Sx4xECg26xQM",
        "outputId": "40a00f22-d5ca-40b6-8e96-648fc52cf2f3"
      }
    },
    {
      "cell_type": "code",
      "execution_count": 29,
      "source": [
        "My_set1.add(4)"
      ],
      "outputs": [],
      "metadata": {
        "id": "XNpnRA81_71r"
      }
    },
    {
      "cell_type": "code",
      "execution_count": 30,
      "source": [
        "My_set1"
      ],
      "outputs": [
        {
          "output_type": "execute_result",
          "data": {
            "text/plain": [
              "{(1, 2), 4, 'tt', 'xx'}"
            ]
          },
          "metadata": {
            "tags": []
          },
          "execution_count": 30
        }
      ],
      "metadata": {
        "colab": {
          "base_uri": "https://localhost:8080/"
        },
        "id": "rSuwa0rT__P0",
        "outputId": "b7a3fbc7-f0f0-4e79-8ffe-1ce0eb2ed207"
      }
    },
    {
      "cell_type": "code",
      "execution_count": 31,
      "source": [
        "My_set3={\"Eman\", 1 , \"Cs\" , \"python\" , \"Cs\" , 1}"
      ],
      "outputs": [],
      "metadata": {
        "id": "ANPrpaDa3DZm"
      }
    },
    {
      "cell_type": "code",
      "execution_count": 32,
      "source": [
        "My_set3"
      ],
      "outputs": [
        {
          "output_type": "execute_result",
          "data": {
            "text/plain": [
              "{1, 'Cs', 'Eman', 'python'}"
            ]
          },
          "metadata": {
            "tags": []
          },
          "execution_count": 32
        }
      ],
      "metadata": {
        "colab": {
          "base_uri": "https://localhost:8080/"
        },
        "id": "SYYfgO2H31LB",
        "outputId": "f5af8c28-5573-4e6b-aba1-6ee3ecc15c65"
      }
    },
    {
      "cell_type": "code",
      "execution_count": 33,
      "source": [
        "#Clear set\r\n",
        "My_set3.clear()"
      ],
      "outputs": [],
      "metadata": {
        "id": "kCSioXdp34D0"
      }
    },
    {
      "cell_type": "code",
      "execution_count": 34,
      "source": [
        "My_set3"
      ],
      "outputs": [
        {
          "output_type": "execute_result",
          "data": {
            "text/plain": [
              "set()"
            ]
          },
          "metadata": {
            "tags": []
          },
          "execution_count": 34
        }
      ],
      "metadata": {
        "colab": {
          "base_uri": "https://localhost:8080/"
        },
        "id": "mIlMooHb5EN9",
        "outputId": "1d9c4649-41f5-4b71-a5df-dc85b5f6f503"
      }
    },
    {
      "cell_type": "markdown",
      "source": [
        "###***copy***()"
      ],
      "metadata": {
        "id": "7eJRrf8E9l5L"
      }
    },
    {
      "cell_type": "code",
      "execution_count": 35,
      "source": [
        "# data assignment\r\n",
        "a=[1,2,3,[4,5]]\r\n",
        "b=a   # assign a to b\r\n",
        "b[0]=99\r\n",
        "print(a)"
      ],
      "outputs": [
        {
          "output_type": "stream",
          "name": "stdout",
          "text": [
            "[99, 2, 3, [4, 5]]\n"
          ]
        }
      ],
      "metadata": {
        "colab": {
          "base_uri": "https://localhost:8080/"
        },
        "id": "fuEKU4CJ5VL_",
        "outputId": "0f7685b5-4004-453a-ce76-811d2b6911b0"
      }
    },
    {
      "cell_type": "code",
      "execution_count": 36,
      "source": [
        "# data assignment\r\n",
        "a=[1,2,3,[4,5]]\r\n",
        "b=a.copy()   # assign a to b\r\n",
        "b[0]=99\r\n",
        "print(a)"
      ],
      "outputs": [
        {
          "output_type": "stream",
          "name": "stdout",
          "text": [
            "[1, 2, 3, [4, 5]]\n"
          ]
        }
      ],
      "metadata": {
        "colab": {
          "base_uri": "https://localhost:8080/"
        },
        "id": "PAUMkAKu5Or7",
        "outputId": "65090b47-524a-4de7-f43b-120455d429ef"
      }
    },
    {
      "cell_type": "code",
      "execution_count": 37,
      "source": [
        "#How to access List in the list\r\n",
        "a[3][1]=40\r\n",
        "print(a)"
      ],
      "outputs": [
        {
          "output_type": "stream",
          "name": "stdout",
          "text": [
            "[1, 2, 3, [4, 40]]\n"
          ]
        }
      ],
      "metadata": {
        "colab": {
          "base_uri": "https://localhost:8080/"
        },
        "id": "0wg8r4828o4I",
        "outputId": "42520c86-de99-40b7-a3c1-dbcdfc06336c"
      }
    },
    {
      "cell_type": "markdown",
      "source": [
        "###***Nested Loops***"
      ],
      "metadata": {
        "id": "MIfPp9YJ9-TB"
      }
    },
    {
      "cell_type": "code",
      "execution_count": 38,
      "source": [
        "people=[\"sama\",\"Ahmed\",\"Mohammed\",\"Hussam\"]\r\n",
        "skills=['python' , 'cs','c']"
      ],
      "outputs": [],
      "metadata": {
        "id": "1MbK3BVnAZgC"
      }
    },
    {
      "cell_type": "code",
      "execution_count": 39,
      "source": [
        "for name in people:\r\n",
        "  print(f\"{name} skill is : \")\r\n",
        "  for skill in skills:\r\n",
        "    print(skill)"
      ],
      "outputs": [
        {
          "output_type": "stream",
          "name": "stdout",
          "text": [
            "sama skill is : \n",
            "python\n",
            "cs\n",
            "c\n",
            "Ahmed skill is : \n",
            "python\n",
            "cs\n",
            "c\n",
            "Mohammed skill is : \n",
            "python\n",
            "cs\n",
            "c\n",
            "Hussam skill is : \n",
            "python\n",
            "cs\n",
            "c\n"
          ]
        }
      ],
      "metadata": {
        "colab": {
          "base_uri": "https://localhost:8080/"
        },
        "id": "R-bUN2s7CDlg",
        "outputId": "d18ed6d3-4e94-471a-cce8-43b487947782"
      }
    },
    {
      "cell_type": "code",
      "execution_count": 40,
      "source": [
        "#write a multiplication table\r\n",
        "for i in range (1,10):\r\n",
        "# a outer loop\r\n",
        "  for j in range(1,i+1):   # a inner loop\r\n",
        "# string formatting\r\n",
        "    print(\"%d X %d= %d \\n\" %(j,i,j*i),end=\" \")\r\n",
        "print()"
      ],
      "outputs": [
        {
          "output_type": "stream",
          "name": "stdout",
          "text": [
            "1 X 1= 1 \n",
            " 1 X 2= 2 \n",
            " 2 X 2= 4 \n",
            " 1 X 3= 3 \n",
            " 2 X 3= 6 \n",
            " 3 X 3= 9 \n",
            " 1 X 4= 4 \n",
            " 2 X 4= 8 \n",
            " 3 X 4= 12 \n",
            " 4 X 4= 16 \n",
            " 1 X 5= 5 \n",
            " 2 X 5= 10 \n",
            " 3 X 5= 15 \n",
            " 4 X 5= 20 \n",
            " 5 X 5= 25 \n",
            " 1 X 6= 6 \n",
            " 2 X 6= 12 \n",
            " 3 X 6= 18 \n",
            " 4 X 6= 24 \n",
            " 5 X 6= 30 \n",
            " 6 X 6= 36 \n",
            " 1 X 7= 7 \n",
            " 2 X 7= 14 \n",
            " 3 X 7= 21 \n",
            " 4 X 7= 28 \n",
            " 5 X 7= 35 \n",
            " 6 X 7= 42 \n",
            " 7 X 7= 49 \n",
            " 1 X 8= 8 \n",
            " 2 X 8= 16 \n",
            " 3 X 8= 24 \n",
            " 4 X 8= 32 \n",
            " 5 X 8= 40 \n",
            " 6 X 8= 48 \n",
            " 7 X 8= 56 \n",
            " 8 X 8= 64 \n",
            " 1 X 9= 9 \n",
            " 2 X 9= 18 \n",
            " 3 X 9= 27 \n",
            " 4 X 9= 36 \n",
            " 5 X 9= 45 \n",
            " 6 X 9= 54 \n",
            " 7 X 9= 63 \n",
            " 8 X 9= 72 \n",
            " 9 X 9= 81 \n",
            " \n"
          ]
        }
      ],
      "metadata": {
        "colab": {
          "base_uri": "https://localhost:8080/"
        },
        "id": "FTdwnin69Jcy",
        "outputId": "6fc2a89c-93b8-4e90-9654-01e6ae57c093"
      }
    },
    {
      "cell_type": "code",
      "execution_count": 41,
      "source": [
        "def f(a=128, b=2, *args, **kwargs):\r\n",
        "  print(\"a: %d\"%(a))\r\n",
        "  print(\"b: %d\"%(b))\r\n",
        "  print(\"args:\",args)\r\n",
        "  for key,value in kwargs.items():\r\n",
        "    print(\"%s is %s\"%(key,value))\r\n",
        "  print()"
      ],
      "outputs": [],
      "metadata": {
        "id": "cR58EhB7_Gyd"
      }
    },
    {
      "cell_type": "code",
      "execution_count": 42,
      "source": [
        "# default arguments\r\n",
        "f()"
      ],
      "outputs": [
        {
          "output_type": "stream",
          "name": "stdout",
          "text": [
            "a: 128\n",
            "b: 2\n",
            "args: ()\n",
            "\n"
          ]
        }
      ],
      "metadata": {
        "colab": {
          "base_uri": "https://localhost:8080/"
        },
        "id": "zMjoDNBJMtpF",
        "outputId": "6f89f527-af29-42eb-b3f0-884be3433c01"
      }
    },
    {
      "cell_type": "code",
      "execution_count": 43,
      "source": [
        "f(0,4)"
      ],
      "outputs": [
        {
          "output_type": "stream",
          "name": "stdout",
          "text": [
            "a: 0\n",
            "b: 4\n",
            "args: ()\n",
            "\n"
          ]
        }
      ],
      "metadata": {
        "colab": {
          "base_uri": "https://localhost:8080/"
        },
        "id": "GtbRsB8mNAYF",
        "outputId": "bf81b31b-bf02-40a9-a89b-745b30692042"
      }
    },
    {
      "cell_type": "code",
      "execution_count": 44,
      "source": [
        "f(1,2,3,4,5)"
      ],
      "outputs": [
        {
          "output_type": "stream",
          "name": "stdout",
          "text": [
            "a: 1\n",
            "b: 2\n",
            "args: (3, 4, 5)\n",
            "\n"
          ]
        }
      ],
      "metadata": {
        "colab": {
          "base_uri": "https://localhost:8080/"
        },
        "id": "lIed1HgSS6GB",
        "outputId": "8a7993b8-99b9-4909-81c1-ecc7eb867e49"
      }
    },
    {
      "cell_type": "code",
      "execution_count": 45,
      "source": [
        "f(1,2, cat='animal', dog='animal', cheese='food')"
      ],
      "outputs": [
        {
          "output_type": "stream",
          "name": "stdout",
          "text": [
            "a: 1\n",
            "b: 2\n",
            "args: ()\n",
            "cat is animal\n",
            "dog is animal\n",
            "cheese is food\n",
            "\n"
          ]
        }
      ],
      "metadata": {
        "colab": {
          "base_uri": "https://localhost:8080/"
        },
        "id": "CF7WNAONTCRs",
        "outputId": "99002a37-0ca2-43f7-e269-86a69bf50e92"
      }
    },
    {
      "cell_type": "markdown",
      "source": [
        "##Anonymous function"
      ],
      "metadata": {
        "id": "0q1VjSPxTxRx"
      }
    },
    {
      "cell_type": "code",
      "execution_count": 46,
      "source": [
        "fun_sum = lambda x,y : x+y"
      ],
      "outputs": [],
      "metadata": {
        "id": "gbFNgkJ2TbWF"
      }
    },
    {
      "cell_type": "code",
      "execution_count": 47,
      "source": [
        "fun_sum(4,6)"
      ],
      "outputs": [
        {
          "output_type": "execute_result",
          "data": {
            "text/plain": [
              "10"
            ]
          },
          "metadata": {
            "tags": []
          },
          "execution_count": 47
        }
      ],
      "metadata": {
        "colab": {
          "base_uri": "https://localhost:8080/"
        },
        "id": "qbXPOD91VJC3",
        "outputId": "75c7e25f-2912-45a6-c742-c1d6ff9e69cf"
      }
    },
    {
      "cell_type": "markdown",
      "source": [
        "##Higher-order function"
      ],
      "metadata": {
        "id": "FBEhR_lPWJTj"
      }
    },
    {
      "cell_type": "code",
      "execution_count": 48,
      "source": [
        "my_list=[22,56,0,9,44,9]\r\n",
        "def add_two(x):\r\n",
        "  return x+2"
      ],
      "outputs": [],
      "metadata": {
        "id": "I_NcbPM3VLvy"
      }
    },
    {
      "cell_type": "code",
      "execution_count": 49,
      "source": [
        "#map\r\n",
        "result = list(map(add_two,my_list))"
      ],
      "outputs": [],
      "metadata": {
        "id": "xvjN-sMJZcu0"
      }
    },
    {
      "cell_type": "code",
      "execution_count": 50,
      "source": [
        "result"
      ],
      "outputs": [
        {
          "output_type": "execute_result",
          "data": {
            "text/plain": [
              "[24, 58, 2, 11, 46, 11]"
            ]
          },
          "metadata": {
            "tags": []
          },
          "execution_count": 50
        }
      ],
      "metadata": {
        "colab": {
          "base_uri": "https://localhost:8080/"
        },
        "id": "Tc085GXTZwiD",
        "outputId": "18372967-9225-4903-9b67-110d341816db"
      }
    },
    {
      "cell_type": "code",
      "execution_count": 51,
      "source": [
        "print(list(map(lambda x:x*x,my_list)))"
      ],
      "outputs": [
        {
          "output_type": "stream",
          "name": "stdout",
          "text": [
            "[484, 3136, 0, 81, 1936, 81]\n"
          ]
        }
      ],
      "metadata": {
        "colab": {
          "base_uri": "https://localhost:8080/"
        },
        "id": "ShF8rwXqaKOB",
        "outputId": "ef58f3e4-4f79-4960-d09d-87f2ac0e6c98"
      }
    },
    {
      "cell_type": "code",
      "execution_count": 52,
      "source": [
        "#filter\r\n",
        "print(list(filter(lambda x:x%2==0 ,my_list)))"
      ],
      "outputs": [
        {
          "output_type": "stream",
          "name": "stdout",
          "text": [
            "[22, 56, 0, 44]\n"
          ]
        }
      ],
      "metadata": {
        "colab": {
          "base_uri": "https://localhost:8080/"
        },
        "id": "8eneGz2JavVI",
        "outputId": "be6525e5-ae64-4d53-c868-50879962b5ed"
      }
    },
    {
      "cell_type": "code",
      "execution_count": 52,
      "source": [],
      "outputs": [],
      "metadata": {
        "id": "v7OZXHae80aU"
      }
    },
    {
      "cell_type": "code",
      "execution_count": 52,
      "source": [],
      "outputs": [],
      "metadata": {
        "id": "akTIaU5w80h0"
      }
    },
    {
      "cell_type": "markdown",
      "source": [
        "##***Object Oriented Programming***"
      ],
      "metadata": {
        "id": "7PiwuRL0c--e"
      }
    },
    {
      "cell_type": "code",
      "execution_count": 53,
      "source": [
        "class Dog:\r\n",
        "  def __init__(self,name,age):\r\n",
        "    self.name=name\r\n",
        "    self.age=age\r\n",
        "  def sit(self):\r\n",
        "    print(self.name.title()+' '+\"is now sitting\")\r\n",
        "  def run(self):\r\n",
        "    print(self.name.title()+' '+\"is now running\")"
      ],
      "outputs": [],
      "metadata": {
        "id": "A-INn1cNP8VU"
      }
    },
    {
      "cell_type": "code",
      "execution_count": 54,
      "source": [
        "my_dog=Dog('Husky',3)"
      ],
      "outputs": [],
      "metadata": {
        "id": "iGnU6FKpQfTP"
      }
    },
    {
      "cell_type": "code",
      "execution_count": 55,
      "source": [
        "my_dog.name"
      ],
      "outputs": [
        {
          "output_type": "execute_result",
          "data": {
            "text/plain": [
              "'Husky'"
            ],
            "application/vnd.google.colaboratory.intrinsic+json": {
              "type": "string"
            }
          },
          "metadata": {
            "tags": []
          },
          "execution_count": 55
        }
      ],
      "metadata": {
        "colab": {
          "base_uri": "https://localhost:8080/",
          "height": 36
        },
        "id": "po4O_keWRHy0",
        "outputId": "9bf66fed-119f-4d5e-8f24-5a14f79569a0"
      }
    },
    {
      "cell_type": "code",
      "execution_count": 56,
      "source": [
        "my_dog.name='lala'"
      ],
      "outputs": [],
      "metadata": {
        "id": "UpoSUQeaRL1T"
      }
    },
    {
      "cell_type": "code",
      "execution_count": 57,
      "source": [
        "my_dog.name"
      ],
      "outputs": [
        {
          "output_type": "execute_result",
          "data": {
            "text/plain": [
              "'lala'"
            ],
            "application/vnd.google.colaboratory.intrinsic+json": {
              "type": "string"
            }
          },
          "metadata": {
            "tags": []
          },
          "execution_count": 57
        }
      ],
      "metadata": {
        "colab": {
          "base_uri": "https://localhost:8080/",
          "height": 36
        },
        "id": "MTEhD_cDRSUg",
        "outputId": "e80dc1d0-45a5-4cc4-b08e-3d26a0ed1c7a"
      }
    },
    {
      "cell_type": "code",
      "execution_count": 58,
      "source": [
        "my_dog.sit()\r\n",
        "my_dog.run()"
      ],
      "outputs": [
        {
          "output_type": "stream",
          "name": "stdout",
          "text": [
            "Lala is now sitting\n",
            "Lala is now running\n"
          ]
        }
      ],
      "metadata": {
        "colab": {
          "base_uri": "https://localhost:8080/"
        },
        "id": "CkjkIjCTRVzb",
        "outputId": "43b6d0b6-b35f-4022-dea7-7f8c42c2ce4b"
      }
    },
    {
      "cell_type": "code",
      "execution_count": 59,
      "source": [
        "#add nwe data to the object\r\n",
        "my_dog.food='cat food'\r\n",
        "print(my_dog.food)"
      ],
      "outputs": [
        {
          "output_type": "stream",
          "name": "stdout",
          "text": [
            "cat food\n"
          ]
        }
      ],
      "metadata": {
        "colab": {
          "base_uri": "https://localhost:8080/"
        },
        "id": "LisUNf6IRrp5",
        "outputId": "80dc3356-1ed4-416a-c16d-b7a5b27b5095"
      }
    },
    {
      "cell_type": "code",
      "execution_count": 60,
      "source": [
        "#Encapsulation\r\n",
        "class SimpleCounter:\r\n",
        "  __secretCount=0   # private variable\r\n",
        "  publicCount =0      # public variable\r\n",
        "  def count(self):\r\n",
        "    self.__secretCount+=100\r\n",
        "    print(self.__secretCount)\r\n"
      ],
      "outputs": [],
      "metadata": {
        "id": "04psl5lSSFBq"
      }
    },
    {
      "cell_type": "code",
      "execution_count": 61,
      "source": [
        "counter= SimpleCounter()\r\n",
        "counter.count()\r\n",
        "print(counter.publicCount)"
      ],
      "outputs": [
        {
          "output_type": "stream",
          "name": "stdout",
          "text": [
            "100\n",
            "0\n"
          ]
        }
      ],
      "metadata": {
        "colab": {
          "base_uri": "https://localhost:8080/"
        },
        "id": "ib5Euh51U5yl",
        "outputId": "b6ca5d03-c57f-4ed7-fb09-30f297490c4b"
      }
    },
    {
      "cell_type": "code",
      "execution_count": 62,
      "source": [
        "#counter.__secretCount      #Erroe beacuse it's private variable"
      ],
      "outputs": [],
      "metadata": {
        "id": "QNIDQ435VR9X"
      }
    },
    {
      "cell_type": "code",
      "execution_count": 63,
      "source": [
        "#Inheritance\r\n",
        "class Parent:  # parent class\r\n",
        "  parentAttr =100\r\n",
        "  def __init__(self):\r\n",
        "    print(\"instantiating parent\")\r\n",
        "\r\n",
        "  def parentMethod(self):\r\n",
        "    print('parent method')\r\n",
        "\r\n",
        "  def setAttr(self,attr):\r\n",
        "    Parent.parentAttr=attr\r\n",
        "    \r\n",
        "  def getAttr(self):\r\n",
        "    print(\"parent attribute: \",Parent.parentAttr)"
      ],
      "outputs": [],
      "metadata": {
        "id": "Uj5869feW0KI"
      }
    },
    {
      "cell_type": "code",
      "execution_count": 64,
      "source": [
        "class Child( Parent):  # child class\r\n",
        "  def __init__(self):\r\n",
        "    print(\"instantiating child\")\r\n",
        "\r\n",
        "  def childMethod(self):\r\n",
        "    print('child method')\r\n",
        "\r\n",
        "  def getAttr(self):\r\n",
        "    super().getAttr()\r\n",
        "    print(\"child says hello!\")"
      ],
      "outputs": [],
      "metadata": {
        "id": "jDZM9pTdZ5Ir"
      }
    },
    {
      "cell_type": "code",
      "execution_count": 65,
      "source": [
        "c =Child()        # instantiate child\r\n",
        "c.childMethod()   # call child method\r\n",
        "c.parentMethod()  # call parent method\r\n",
        "c.setAttr(200)    # set attribute (parent method)\r\n",
        "c.getAttr()       # call attribute (parent method)"
      ],
      "outputs": [
        {
          "output_type": "stream",
          "name": "stdout",
          "text": [
            "instantiating child\n",
            "child method\n",
            "parent method\n",
            "parent attribute:  200\n",
            "child says hello!\n"
          ]
        }
      ],
      "metadata": {
        "colab": {
          "base_uri": "https://localhost:8080/"
        },
        "id": "D9J99WQ-ayBE",
        "outputId": "f0b3acf2-bed1-4d45-a716-fcbaeca259dd"
      }
    },
    {
      "cell_type": "code",
      "execution_count": 66,
      "source": [
        "#polymorphism\r\n",
        "print(len(\"hello python!\"))\r\n",
        "print(len([1,2,3,4,5]))"
      ],
      "outputs": [
        {
          "output_type": "stream",
          "name": "stdout",
          "text": [
            "13\n",
            "5\n"
          ]
        }
      ],
      "metadata": {
        "colab": {
          "base_uri": "https://localhost:8080/"
        },
        "id": "CIS9ZVSmb8VU",
        "outputId": "3e750ebf-94da-4b7a-fe8e-7390be4a5324"
      }
    },
    {
      "cell_type": "code",
      "execution_count": 67,
      "source": [
        "class Student:\r\n",
        "  num=0\r\n",
        "  def __init__(self, name , age=0, courses='none'):\r\n",
        "    self.__name=name        #private variable\r\n",
        "    self.__age=age          #private variable\r\n",
        "    self.courses=courses    #puplic variable\r\n",
        "    Student.num+=1\r\n",
        "\r\n",
        "  \r\n",
        "  def getname(self):\r\n",
        "    return self.__name\r\n",
        "  \r\n",
        "  def set_name (self, new_name):\r\n",
        "    self.__name= new_name\r\n",
        "\r\n",
        "  def getage(self):\r\n",
        "    return self.__age\r\n",
        "  \r\n",
        "  def set_age (self, new_age):\r\n",
        "    self.__age= new_age\r\n",
        "\r\n",
        "  def describe(self):\r\n",
        "    print('my name is'+' '+self.__name +' '+'and my age is'+' '+str(self.__age))\r\n",
        "  \r\n",
        "  def is_old (self,number):\r\n",
        "    if self.__age >= number:\r\n",
        "      print('student is old')\r\n",
        "    else:\r\n",
        "      print('student is not old')"
      ],
      "outputs": [],
      "metadata": {
        "id": "Z74WBKGba07N"
      }
    },
    {
      "cell_type": "code",
      "execution_count": 68,
      "source": [
        "student1=Student('Ahmed', 20, 'data science')\r\n",
        "student2 = Student('fwzy' , 21,'math')"
      ],
      "outputs": [],
      "metadata": {
        "id": "GdelJ19ZgEbD"
      }
    },
    {
      "cell_type": "code",
      "execution_count": 69,
      "source": [
        "student1.getname()"
      ],
      "outputs": [
        {
          "output_type": "execute_result",
          "data": {
            "text/plain": [
              "'Ahmed'"
            ],
            "application/vnd.google.colaboratory.intrinsic+json": {
              "type": "string"
            }
          },
          "metadata": {
            "tags": []
          },
          "execution_count": 69
        }
      ],
      "metadata": {
        "colab": {
          "base_uri": "https://localhost:8080/",
          "height": 36
        },
        "id": "XOsc2WKlgG0p",
        "outputId": "e4909fed-83df-4b2b-eab9-02b982773339"
      }
    },
    {
      "cell_type": "code",
      "execution_count": 70,
      "source": [
        "Student.num"
      ],
      "outputs": [
        {
          "output_type": "execute_result",
          "data": {
            "text/plain": [
              "2"
            ]
          },
          "metadata": {
            "tags": []
          },
          "execution_count": 70
        }
      ],
      "metadata": {
        "colab": {
          "base_uri": "https://localhost:8080/"
        },
        "id": "MTDdzfQWgJDE",
        "outputId": "16422519-cd06-4415-b256-d8db387271d8"
      }
    },
    {
      "cell_type": "code",
      "execution_count": 71,
      "source": [
        "student1.describe()"
      ],
      "outputs": [
        {
          "output_type": "stream",
          "name": "stdout",
          "text": [
            "my name is Ahmed and my age is 20\n"
          ]
        }
      ],
      "metadata": {
        "colab": {
          "base_uri": "https://localhost:8080/"
        },
        "id": "jwhGoWIDghay",
        "outputId": "88bb3ec9-ad1a-41ef-f3a3-71e566d9b253"
      }
    },
    {
      "cell_type": "code",
      "execution_count": 72,
      "source": [
        "student1.is_old(21)"
      ],
      "outputs": [
        {
          "output_type": "stream",
          "name": "stdout",
          "text": [
            "student is not old\n"
          ]
        }
      ],
      "metadata": {
        "colab": {
          "base_uri": "https://localhost:8080/"
        },
        "id": "cn-gQi7VgkC7",
        "outputId": "27d243f3-910a-4c5f-e201-f4d0fe832cbf"
      }
    },
    {
      "cell_type": "code",
      "execution_count": 73,
      "source": [
        "student1.set_name('ee')"
      ],
      "outputs": [],
      "metadata": {
        "id": "f8KZVNUxhNYh"
      }
    },
    {
      "cell_type": "code",
      "execution_count": 73,
      "source": [],
      "outputs": [],
      "metadata": {
        "id": "0OtKijP1iJWF"
      }
    },
    {
      "cell_type": "markdown",
      "source": [
        "##**Regular expression**\n",
        "- searching for spesific pattern\n",
        "- (\\s)     --> spaces\n",
        "- (\\d)     --> digits\n",
        "- (\\W)     --->symbols\n",
        "- ([a-zA-z]) --> character\n",
        "- [A-Za-z0-9] --> alphabet and digits\n",
        "- (*) --> matches zero or more occurance"
      ],
      "metadata": {
        "id": "0Ljdh63XiJlW"
      }
    },
    {
      "cell_type": "code",
      "execution_count": 74,
      "source": [
        "# import re module\r\n",
        "import re"
      ],
      "outputs": [],
      "metadata": {
        "id": "qDwTkpAyhSBC"
      }
    },
    {
      "cell_type": "code",
      "execution_count": 75,
      "source": [
        "print(re.match('www','www.huawei.com').span())        # match from start of the text\r\n",
        "print(re.match('com','www.huawei.com'))               # cannot match from middel of the text"
      ],
      "outputs": [
        {
          "output_type": "stream",
          "name": "stdout",
          "text": [
            "(0, 3)\n",
            "None\n"
          ]
        }
      ],
      "metadata": {
        "colab": {
          "base_uri": "https://localhost:8080/"
        },
        "id": "yMXnnM3oiVGz",
        "outputId": "fe67365d-ac30-4695-b611-5a3ea70f8d95"
      }
    },
    {
      "cell_type": "code",
      "execution_count": 76,
      "source": [
        "#The re.search() function returns a match object in case a match is found.\r\n",
        "line='cat is smarter than fish'\r\n",
        "searchObj=re.search(r'(.*) are smarter than (.*)',line)"
      ],
      "outputs": [],
      "metadata": {
        "id": "mbZQ6sU0i29Z"
      }
    },
    {
      "cell_type": "code",
      "execution_count": 77,
      "source": [
        "#re.search(pattern, text)\n",
        "line=\"Cats are smarter than fish and rr\"\n",
        "searchObj=re.search('(.*) are smarter than (.*) and (.*)',line)\n",
        "if searchObj:\n",
        "  print(\"searchObj.group() : \",searchObj.group())\n",
        "  print(\"searchObj.group(1) : \",searchObj.group(1))\n",
        "  print(\"searchObj.group(2) : \",searchObj.group(2))\n",
        "else:\n",
        "  print(\"Nothing found!!\")"
      ],
      "outputs": [
        {
          "output_type": "stream",
          "name": "stdout",
          "text": [
            "searchObj.group() :  Cats are smarter than fish and rr\n",
            "searchObj.group(1) :  Cats\n",
            "searchObj.group(2) :  fish\n"
          ]
        }
      ],
      "metadata": {
        "colab": {
          "base_uri": "https://localhost:8080/"
        },
        "id": "Exk0x1IDv-EK",
        "outputId": "f32de4f1-e684-4437-f2d2-13866e6b84a8"
      }
    },
    {
      "cell_type": "code",
      "execution_count": 78,
      "source": [
        "searchObj.group()"
      ],
      "outputs": [
        {
          "output_type": "execute_result",
          "data": {
            "text/plain": [
              "'Cats are smarter than fish and rr'"
            ],
            "application/vnd.google.colaboratory.intrinsic+json": {
              "type": "string"
            }
          },
          "metadata": {
            "tags": []
          },
          "execution_count": 78
        }
      ],
      "metadata": {
        "colab": {
          "base_uri": "https://localhost:8080/",
          "height": 36
        },
        "id": "rR14U4mlwbFF",
        "outputId": "292a89d5-38c5-4f54-f94c-36b0e86ae02f"
      }
    },
    {
      "cell_type": "code",
      "execution_count": 79,
      "source": [
        "# re.compile(pattern).search(text) is equivalent to re.search(pattern, text)\n",
        "pattern =re.compile(r'\\d+') # match at least one digit\n",
        "n=pattern.match('one12twothree34four') # match from start. no match\n",
        "print(n)\n",
        "\n",
        "\n",
        "# search from start, found 12\n",
        "m=pattern.search('one12twothree34four')\n",
        "print(m)\n",
        "print(m.group())"
      ],
      "outputs": [
        {
          "output_type": "stream",
          "name": "stdout",
          "text": [
            "None\n",
            "<re.Match object; span=(3, 5), match='12'>\n",
            "12\n"
          ]
        }
      ],
      "metadata": {
        "colab": {
          "base_uri": "https://localhost:8080/"
        },
        "id": "OjnIKBfqyFEt",
        "outputId": "0f8125c9-9304-4680-84c4-92797123d7c4"
      }
    },
    {
      "cell_type": "code",
      "execution_count": 80,
      "source": [
        "phone=\"2020-0101-000 # this is a phone number\"    # remove the number sign (#) and everything behine it\n",
        "num=re.sub(r'#.*',\"\",phone)   #The re.sub() function is used to replace occurrences of a particular sub-string with another sub-string.\n",
        "print(\"phone number: \",num)\n",
        "# remove everything that is not digit\n",
        "num= re .sub(r'\\D',\"\",phone)\n",
        "print(\"phone number : \",num)"
      ],
      "outputs": [
        {
          "output_type": "stream",
          "name": "stdout",
          "text": [
            "phone number:  2020-0101-000 \n",
            "phone number :  20200101000\n"
          ]
        }
      ],
      "metadata": {
        "colab": {
          "base_uri": "https://localhost:8080/"
        },
        "id": "RLrqWwgO2pEh",
        "outputId": "6c5c2c78-41ec-4af5-fe51-d25f9578aa90"
      }
    },
    {
      "cell_type": "code",
      "execution_count": 81,
      "source": [
        "#The re.findall() function returns a list of strings containing all matches of the specified pattern.\n",
        "# find all the numbers in the text\n",
        "\n",
        "text= \"Tomorrow is 2022/2/31, today is 2022/2/30\"\n",
        "num1=re.findall(r'\\d+',text)\n",
        "\n",
        "print(num1)\n"
      ],
      "outputs": [
        {
          "output_type": "stream",
          "name": "stdout",
          "text": [
            "['2022', '2', '31', '2022', '2', '30']\n"
          ]
        }
      ],
      "metadata": {
        "id": "ylpW4sqa0Y28",
        "colab": {
          "base_uri": "https://localhost:8080/"
        },
        "outputId": "8b6543f7-c60b-4527-fe8a-745fd01f103b"
      }
    },
    {
      "cell_type": "code",
      "execution_count": 82,
      "source": [
        "# find all the alphabets in the text\n",
        "s=re.findall(r'[a-zA-z]+',text)\n",
        "print(s)"
      ],
      "outputs": [
        {
          "output_type": "stream",
          "name": "stdout",
          "text": [
            "['Tomorrow', 'is', 'today', 'is']\n"
          ]
        }
      ],
      "metadata": {
        "colab": {
          "base_uri": "https://localhost:8080/"
        },
        "id": "xOfr-SmY4ivV",
        "outputId": "113dd190-0b43-4bff-d505-f760cbfd7805"
      }
    },
    {
      "cell_type": "code",
      "execution_count": 83,
      "source": [
        "# find all the symbols in the text\n",
        "s =re.findall(r'\\W+',text)\n",
        "print(s)"
      ],
      "outputs": [
        {
          "output_type": "stream",
          "name": "stdout",
          "text": [
            "[' ', ' ', '/', '/', ', ', ' ', ' ', '/', '/']\n"
          ]
        }
      ],
      "metadata": {
        "colab": {
          "base_uri": "https://localhost:8080/"
        },
        "id": "8IULSxFj6_94",
        "outputId": "0952e8fb-bf88-44f3-d342-9f9c530a3d93"
      }
    },
    {
      "cell_type": "code",
      "execution_count": 84,
      "source": [
        "# find all the alphabets and digits\n",
        "s=re.findall(r'[A-Za-z0-9]+',text)\n",
        "print(s)"
      ],
      "outputs": [
        {
          "output_type": "stream",
          "name": "stdout",
          "text": [
            "['Tomorrow', 'is', '2022', '2', '31', 'today', 'is', '2022', '2', '30']\n"
          ]
        }
      ],
      "metadata": {
        "colab": {
          "base_uri": "https://localhost:8080/"
        },
        "id": "6XpAGb1S7MwB",
        "outputId": "9fba430d-74a2-445e-8cc8-80a44f79bc09"
      }
    },
    {
      "cell_type": "code",
      "execution_count": 85,
      "source": [
        "# find email address\n",
        "text=\"my email address is: abc456@def.com\"\n",
        "s=re.findall(r'[A-Za-z0-9]+@[A-Za-z0-9]+\\.com',text)\n",
        "print(s)"
      ],
      "outputs": [
        {
          "output_type": "stream",
          "name": "stdout",
          "text": [
            "['abc456@def.com']\n"
          ]
        }
      ],
      "metadata": {
        "colab": {
          "base_uri": "https://localhost:8080/"
        },
        "id": "auwJr4Cl7_Eq",
        "outputId": "9f8a0151-fc97-4c96-b803-f6c39610d45a"
      }
    },
    {
      "cell_type": "code",
      "execution_count": 86,
      "source": [
        "# find url\n",
        "text=\"Python home page: https://www.python.org\"\n",
        "s=re.findall(r'https?://.*',text)\n",
        "print(s)"
      ],
      "outputs": [
        {
          "output_type": "stream",
          "name": "stdout",
          "text": [
            "['https://www.python.org']\n"
          ]
        }
      ],
      "metadata": {
        "colab": {
          "base_uri": "https://localhost:8080/"
        },
        "id": "PBjt5RtJ8kL8",
        "outputId": "71208f6d-601a-45f4-cc9a-271094deb1e1"
      }
    },
    {
      "cell_type": "code",
      "execution_count": 87,
      "source": [
        "# find every div tag\n",
        "html=\"aa<div>test1</div>bb<div>test2</div>cc \"\n",
        "res=re.search(\"<div>.*</div>\",html)\n",
        "print(res.group())"
      ],
      "outputs": [
        {
          "output_type": "stream",
          "name": "stdout",
          "text": [
            "<div>test1</div>bb<div>test2</div>\n"
          ]
        }
      ],
      "metadata": {
        "colab": {
          "base_uri": "https://localhost:8080/"
        },
        "id": "Bx2D4tLQ8YP9",
        "outputId": "2002591b-dc66-4467-afe7-916058eda9cd"
      }
    },
    {
      "cell_type": "markdown",
      "source": [
        "## Errors and Exceptions"
      ],
      "metadata": {
        "id": "5gsLSjz5eb_t"
      }
    },
    {
      "cell_type": "code",
      "execution_count": 89,
      "source": [
        "# Python can't compute 1/0\n",
        "# print(1/0)   ZeroDivisionError: division by zero"
      ],
      "outputs": [],
      "metadata": {
        "id": "PQ0m1Uqwear7"
      }
    },
    {
      "cell_type": "code",
      "execution_count": 91,
      "source": [
        "try:\n",
        "  print(1/0)\n",
        "except Exception as e:\n",
        "  print(e)"
      ],
      "outputs": [
        {
          "output_type": "stream",
          "name": "stdout",
          "text": [
            "division by zero\n"
          ]
        }
      ],
      "metadata": {
        "id": "bgmtM4hj-zPS",
        "colab": {
          "base_uri": "https://localhost:8080/"
        },
        "outputId": "d21a0736-7d40-4090-e9cf-41b03cb176d1"
      }
    },
    {
      "cell_type": "code",
      "execution_count": 98,
      "source": [
        "try:\n",
        "  age=int(input(\"inter your age: \"))\n",
        "except:\n",
        "  print('This not intger')\n",
        "\n",
        "else:\n",
        "  print ('good , number')\n",
        "\n",
        "finally:\n",
        "  print(\"Python is cool\")\n"
      ],
      "outputs": [
        {
          "output_type": "stream",
          "name": "stdout",
          "text": [
            "inter your age: ff\n",
            "This not intger\n",
            "Python is cool\n"
          ]
        }
      ],
      "metadata": {
        "colab": {
          "base_uri": "https://localhost:8080/"
        },
        "id": "O8Krhf-cfJv2",
        "outputId": "9790b137-9f9c-4b6e-e05f-0bdeb08b1298"
      }
    },
    {
      "cell_type": "code",
      "execution_count": 97,
      "source": [
        "try:\n",
        "  age=int(input(\"inter your age: \"))\n",
        "  print ('good , number')\n",
        "except:\n",
        "  print('This not intger')"
      ],
      "outputs": [
        {
          "output_type": "stream",
          "name": "stdout",
          "text": [
            "inter your age: ff\n",
            "This not intger\n"
          ]
        }
      ],
      "metadata": {
        "colab": {
          "base_uri": "https://localhost:8080/"
        },
        "id": "LmG4RoR0gdVy",
        "outputId": "4f1951bd-5b8d-43a8-f6c9-c128727e65b5"
      }
    },
    {
      "cell_type": "code",
      "execution_count": 116,
      "source": [
        "a = int(input())\n",
        "try:\n",
        "  b =[i for i in range(int(a))]                # if a<5, there will be an error\n",
        "  print(b[4]/0)\n",
        "\n",
        "except ZeroDivisionError:\n",
        "  print(\"division by zero\")\n",
        "\n",
        "except ValueError:\n",
        "  print(\"ValueError\")\n",
        "\n",
        "except IndexError:\n",
        "  print(\"list index out of range\")\n",
        "\n",
        "finally:\n",
        "  print(\"Python is cool\")"
      ],
      "outputs": [
        {
          "output_type": "stream",
          "name": "stdout",
          "text": [
            "rr\n"
          ]
        },
        {
          "output_type": "error",
          "ename": "ValueError",
          "evalue": "ignored",
          "traceback": [
            "\u001b[0;31m---------------------------------------------------------------------------\u001b[0m",
            "\u001b[0;31mValueError\u001b[0m                                Traceback (most recent call last)",
            "\u001b[0;32m<ipython-input-116-fd78bef56c37>\u001b[0m in \u001b[0;36m<module>\u001b[0;34m()\u001b[0m\n\u001b[0;32m----> 1\u001b[0;31m \u001b[0ma\u001b[0m \u001b[0;34m=\u001b[0m \u001b[0mint\u001b[0m\u001b[0;34m(\u001b[0m\u001b[0minput\u001b[0m\u001b[0;34m(\u001b[0m\u001b[0;34m)\u001b[0m\u001b[0;34m)\u001b[0m\u001b[0;34m\u001b[0m\u001b[0;34m\u001b[0m\u001b[0m\n\u001b[0m\u001b[1;32m      2\u001b[0m \u001b[0;32mtry\u001b[0m\u001b[0;34m:\u001b[0m\u001b[0;34m\u001b[0m\u001b[0;34m\u001b[0m\u001b[0m\n\u001b[1;32m      3\u001b[0m   \u001b[0mb\u001b[0m \u001b[0;34m=\u001b[0m\u001b[0;34m[\u001b[0m\u001b[0mi\u001b[0m \u001b[0;32mfor\u001b[0m \u001b[0mi\u001b[0m \u001b[0;32min\u001b[0m \u001b[0mrange\u001b[0m\u001b[0;34m(\u001b[0m\u001b[0mint\u001b[0m\u001b[0;34m(\u001b[0m\u001b[0ma\u001b[0m\u001b[0;34m)\u001b[0m\u001b[0;34m)\u001b[0m\u001b[0;34m]\u001b[0m                \u001b[0;31m# if a<5, there will be an error\u001b[0m\u001b[0;34m\u001b[0m\u001b[0;34m\u001b[0m\u001b[0m\n\u001b[1;32m      4\u001b[0m   \u001b[0mprint\u001b[0m\u001b[0;34m(\u001b[0m\u001b[0mb\u001b[0m\u001b[0;34m[\u001b[0m\u001b[0;36m4\u001b[0m\u001b[0;34m]\u001b[0m\u001b[0;34m/\u001b[0m\u001b[0;36m0\u001b[0m\u001b[0;34m)\u001b[0m\u001b[0;34m\u001b[0m\u001b[0;34m\u001b[0m\u001b[0m\n\u001b[1;32m      5\u001b[0m \u001b[0;34m\u001b[0m\u001b[0m\n",
            "\u001b[0;31mValueError\u001b[0m: invalid literal for int() with base 10: 'rr'"
          ]
        }
      ],
      "metadata": {
        "colab": {
          "base_uri": "https://localhost:8080/",
          "height": 264
        },
        "id": "mUO_69nQhMC5",
        "outputId": "cac81b0a-bc8a-49f4-a125-b21eba8dc21b"
      }
    },
    {
      "cell_type": "code",
      "execution_count": 115,
      "source": [
        "a= input()\n",
        "b =[i for i in range(int(a))]                # if a<5, there will be an error\n",
        "print(b)\n",
        "#a = [i for i in range 5]"
      ],
      "outputs": [
        {
          "output_type": "stream",
          "name": "stdout",
          "text": [
            "3\n",
            "[0, 1, 2]\n"
          ]
        }
      ],
      "metadata": {
        "colab": {
          "base_uri": "https://localhost:8080/"
        },
        "id": "S3GEW2mci-JV",
        "outputId": "07fe079c-7bc5-41e3-d7d6-a4f5ba870ef8"
      }
    },
    {
      "cell_type": "code",
      "execution_count": 110,
      "source": [
        "x=[i for i in range(5)]"
      ],
      "outputs": [],
      "metadata": {
        "id": "T6GNMdrbkHPF"
      }
    },
    {
      "cell_type": "code",
      "execution_count": 111,
      "source": [
        "print(x)"
      ],
      "outputs": [
        {
          "output_type": "stream",
          "name": "stdout",
          "text": [
            "[0, 1, 2, 3, 4]\n"
          ]
        }
      ],
      "metadata": {
        "colab": {
          "base_uri": "https://localhost:8080/"
        },
        "id": "uelr35r9lIFS",
        "outputId": "20cb25b9-c675-4db4-c129-4447c34b4c23"
      }
    },
    {
      "cell_type": "code",
      "execution_count": null,
      "source": [],
      "outputs": [],
      "metadata": {
        "id": "VUATQVZglJRc"
      }
    }
  ]
}